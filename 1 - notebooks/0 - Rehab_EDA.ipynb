{
 "cells": [
  {
   "cell_type": "markdown",
   "id": "215e74a5-ee5a-484f-bfe6-04b6ae161a7d",
   "metadata": {
    "tags": []
   },
   "source": [
    "# <b>Part 1: EDA of HemiPhysiosData</b>\n",
    "\n",
    "https://apps.apple.com/zw/app/hemiphysiodata/id1502983547 "
   ]
  },
  {
   "cell_type": "markdown",
   "id": "54001566-0f7c-4947-b346-2054024ac187",
   "metadata": {
    "tags": []
   },
   "source": [
    "-----------------------------\n",
    "## <b>Description on App Store</b>\n",
    "-----------------------------\n",
    "\n",
    "Harness the Power of Apple Watch: Seamlessly Gather Physical Activity and Range of Motion Data for Analytics and Machine Learning. \n",
    "\n",
    " \n",
    "\n",
    "HemiPhysioData serves as an Apple Watch app designed to gather both raw and processed data from the watch's built-in sensors, such as the accelerometer and gyroscope. Its user-friendly interface allows users to effortlessly select different activities and preferences. The collected sensor data, along with additional specified values, is then neatly stored in a CSV file. These CSV files can be easily transferred to the user's iPhone for further processing and analysis. The app is specifically tailored for individuals seeking to collect movement data or Range of Motion (ROM) measurements, with the added benefit of utilizing the data for analytics and machine learning. Users have the flexibility to choose the activity type, movement type, sampling rate (samples per second), and indicate which wrist they wear the watch on, as well as whether it's their dominant or non-dominant side. \n",
    "\n",
    " \n",
    "-----------------------------\n",
    "## <b>Dataset</b>\n",
    "-----------------------------\n",
    "The following sensor data of the Apple Watch (WatchOS) is saved in the CSV file: \n",
    "\n",
    "- Device Motion Processed Data: roll, pitch, yaw, rotation rate x, rotation rate y, rotation rate z, gravity x, gravity y, gravity z, user acceleration x, user acceleration y, user acceleration z, quaternion x, quaternion y, quaternion z, quaternion \n",
    "- Accelerometer Raw Data: Acceleration x, y, and z\n",
    "\n",
    "\n",
    "CSV File:\n",
    "* **LoggingTime** - Time of each data sample\n",
    "* **UID** - uUser identifier\n",
    "* **RecNo** - Record Number\n",
    "* **Hertz** - Sampling rate, \n",
    "* **Activity** - Move Type \n",
    "* **Wrist** - rt=right wrist; lt=left wrist\n",
    "* **Side** - d=dominant; nd=non-dominant \n",
    "* **DMRoll/Pitch/Yaw** - Device Motion processed values Roll, Pitch, and Yaw\n",
    "* **DMRotX/Y/Z** - Device motion processed rotation x, y, and z \n",
    "* **DMGrvX/Y/Z** - Device motion processed gravity x, y, and z  \n",
    "* **DMUAccelX/Y/Z** - Device motion processed user acceleration x, y, and z. ***Excludes gravity, only includes motion.***\n",
    "* **DMQuatX/Y/Z/W** - Device motion processed rotation x, y, and z \n",
    "* **AccelroX/Y/Z** - Accelerometer raw values x, y, and z    x, y, and z. ***Includes both gravity and motion components.***"
   ]
  },
  {
   "cell_type": "code",
   "execution_count": 3,
   "id": "1c91d3c4-6929-43a6-97da-d16aac885fec",
   "metadata": {},
   "outputs": [],
   "source": [
    "import os\n",
    "from time import time\n",
    "from datetime import timedelta\n",
    "\n",
    "import numpy as np\n",
    "import pandas as pd\n",
    "import matplotlib.pyplot as plt \n",
    "import seaborn as sns\n",
    "\n",
    "import warnings\n",
    "\n",
    "\n",
    "\n",
    "# Suppress the specific FutureWarning\n",
    "warnings.filterwarnings(\"ignore\", category=FutureWarning, module=\"seaborn.categorical\")"
   ]
  },
  {
   "cell_type": "markdown",
   "id": "73f0bcf2-48d8-4067-afca-169bda385a26",
   "metadata": {},
   "source": [
    "**Let's get an overview of the data and prepare it for visualization**"
   ]
  },
  {
   "cell_type": "code",
   "execution_count": 5,
   "id": "492f11c7-e0a6-43be-9817-2898c74d8795",
   "metadata": {},
   "outputs": [
    {
     "name": "stdout",
     "output_type": "stream",
     "text": [
      "Current working directory: D:\\Dropbox\\Work\\Learning\\Python\\Rehab data\\Sensor Data_ML scripts_Models\\SensorData_HemiPhysioDataApp(Our App)\\Data_in_Brief\n"
     ]
    }
   ],
   "source": [
    "# Get the current working directory\n",
    "current_directory = os.getcwd()\n",
    "print(f\"Current working directory: {current_directory}\")"
   ]
  },
  {
   "cell_type": "markdown",
   "id": "9dfae43f-065e-4924-b2b0-0156a0870887",
   "metadata": {},
   "source": [
    "### Load the data"
   ]
  },
  {
   "cell_type": "code",
   "execution_count": 7,
   "id": "f5e4aace-0846-4e63-9896-f46e334c64a7",
   "metadata": {},
   "outputs": [
    {
     "name": "stdout",
     "output_type": "stream",
     "text": [
      "Shape of train data: (188717, 40)\n",
      "Shape of test data: (101674, 40)\n",
      "Shape of test data: (105043, 40)\n"
     ]
    },
    {
     "name": "stderr",
     "output_type": "stream",
     "text": [
      "C:\\Users\\LENOVO\\AppData\\Local\\Temp\\ipykernel_25456\\4159267285.py:13: DtypeWarning: Columns (4,5,6,8,9,10,11,12,13,14,15,16,17,18,19,20,21,22,23,27,30,33) have mixed types. Specify dtype option on import or set low_memory=False.\n",
      "  data_valid = pd.read_csv(Rehab_data_dir + HemiPhysioData_folder_name + \"all_valid.csv\")\n"
     ]
    }
   ],
   "source": [
    "# Storing the path of the extracted \"train\" folder \n",
    "#Rehab_data_dir = \"C:/Users/ybenachour/Dropbox/Work/Learning/Python/Rehab data/\"\n",
    "Rehab_data_dir = \"D:/Dropbox/Work/Learning/Python/Rehab data/\"\n",
    "HemiPhysioData_folder_name = \"Sensor Data_ML scripts_Models/SensorData_HemiPhysioDataApp(Our App)/Data_in_Brief/\"\n",
    "\n",
    "# Loading the train data\n",
    "data_train = pd.read_csv(Rehab_data_dir + HemiPhysioData_folder_name + \"all_train.csv\")\n",
    "\n",
    "# Loading the test data\n",
    "data_test = pd.read_csv(Rehab_data_dir + HemiPhysioData_folder_name + \"all_test.csv\")\n",
    "\n",
    "# Loading the validation data\n",
    "data_valid = pd.read_csv(Rehab_data_dir + HemiPhysioData_folder_name + \"all_valid.csv\")\n",
    "\n",
    "# Shape of train, test, and validation data\n",
    "print('Shape of train data:', data_train.shape)\n",
    "print('Shape of test data:', data_test.shape)\n",
    "print('Shape of test data:', data_valid.shape)"
   ]
  },
  {
   "cell_type": "code",
   "execution_count": 8,
   "id": "695c7455-64ee-443a-8f67-cd0dd0a6462d",
   "metadata": {},
   "outputs": [
    {
     "name": "stdout",
     "output_type": "stream",
     "text": [
      "64.24% data is in training set\n",
      "35.76% data is in validation set\n",
      "==============\n",
      "Shape of Training set :  (188717, 40)\n",
      "Shape of validation set :  (105043, 40)\n",
      "Shape of test set :  (101674, 40)\n",
      "==============\n"
     ]
    }
   ],
   "source": [
    "#confirm the shape of both data sets and the ratio of classes is the same across both train and test datasets\n",
    "print(\"{0:0.2f}% data is in training set\".format((len(data_train)/(len(data_train.index)+len(data_valid.index))) * 100))\n",
    "print(\"{0:0.2f}% data is in validation set\".format((len(data_valid)/(len(data_train.index)+len(data_valid.index))) * 100))\n",
    "print('==============')\n",
    "print(\"Shape of Training set : \", data_train.shape)\n",
    "print(\"Shape of validation set : \", data_valid.shape)\n",
    "print(\"Shape of test set : \", data_test.shape)\n",
    "print('==============')"
   ]
  },
  {
   "cell_type": "markdown",
   "id": "5257fe97-5b34-49f7-bd3d-5d594287dda6",
   "metadata": {},
   "source": [
    "**We have 40 features for 3 datasets and 188717 observations in train data**"
   ]
  },
  {
   "cell_type": "markdown",
   "id": "3e0eb478-b1c8-4af2-853e-baa71ebb256b",
   "metadata": {
    "tags": []
   },
   "source": [
    "### Compare columns in train and test"
   ]
  },
  {
   "cell_type": "markdown",
   "id": "99dce2fa-9aa5-434a-8c8c-d5ac18fe4e39",
   "metadata": {},
   "source": [
    "#### Compare column names"
   ]
  },
  {
   "cell_type": "code",
   "execution_count": 12,
   "id": "556e3a87-5c63-49cc-8ae2-cf31ac2d0116",
   "metadata": {},
   "outputs": [
    {
     "name": "stdout",
     "output_type": "stream",
     "text": [
      "Columns in train but not in test: set()\n",
      "Columns in test but not in train: set()\n"
     ]
    }
   ],
   "source": [
    "train_columns = set(data_train.columns)\n",
    "test_columns = set(data_test.columns)\n",
    "\n",
    "# Columns present in train but not in test\n",
    "train_not_in_test = train_columns - test_columns\n",
    "\n",
    "# Columns present in test but not in train\n",
    "test_not_in_train = test_columns - train_columns\n",
    "\n",
    "print(\"Columns in train but not in test:\", train_not_in_test)\n",
    "print(\"Columns in test but not in train:\", test_not_in_train)"
   ]
  },
  {
   "cell_type": "markdown",
   "id": "76d57c51-16d6-47ba-87cc-fda7a4211aad",
   "metadata": {},
   "source": [
    "#### Compare column data types"
   ]
  },
  {
   "cell_type": "code",
   "execution_count": 14,
   "id": "7f2f6848-4d6c-4f9c-8326-1681360e52d6",
   "metadata": {},
   "outputs": [
    {
     "name": "stdout",
     "output_type": "stream",
     "text": [
      "All columns have matching data types.\n"
     ]
    }
   ],
   "source": [
    "# Check if the data types of corresponding columns match\n",
    "mismatched_types = {}\n",
    "for column in train_columns.intersection(test_columns):\n",
    "    if data_train[column].dtype != data_test[column].dtype:\n",
    "        mismatched_types[column] = (data_train[column].dtype, data_test[column].dtype)\n",
    "\n",
    "if mismatched_types:\n",
    "    print(\"Mismatched column data types:\")\n",
    "    for col, dtypes in mismatched_types.items():\n",
    "        print(f\"{col}: train dtype = {dtypes[0]}, test dtype = {dtypes[1]}\")\n",
    "else:\n",
    "    print(\"All columns have matching data types.\")"
   ]
  },
  {
   "cell_type": "markdown",
   "id": "53de3689-f477-409b-919f-89348abe7e06",
   "metadata": {},
   "source": [
    "#### Check for missing columns"
   ]
  },
  {
   "cell_type": "code",
   "execution_count": 16,
   "id": "44877f01-54d2-48de-a1f1-350c40c85a92",
   "metadata": {},
   "outputs": [
    {
     "name": "stdout",
     "output_type": "stream",
     "text": [
      "Columns missing in train dataset: []\n",
      "Columns missing in test dataset: []\n"
     ]
    }
   ],
   "source": [
    "missing_in_train = [col for col in data_test.columns if col not in data_train.columns]\n",
    "missing_in_test = [col for col in data_train.columns if col not in data_test.columns]\n",
    "\n",
    "print(\"Columns missing in train dataset:\", missing_in_train)\n",
    "print(\"Columns missing in test dataset:\", missing_in_test)\n"
   ]
  },
  {
   "cell_type": "markdown",
   "id": "dd5e5764-4ce1-44b4-9113-3ca809f45c9d",
   "metadata": {
    "tags": []
   },
   "source": [
    "-----------------------------\n",
    "## <b>Pre Processing Data</b>\n",
    "-----------------------------"
   ]
  },
  {
   "cell_type": "code",
   "execution_count": 18,
   "id": "43871b10-2f6b-4ebe-a154-244374bf2536",
   "metadata": {},
   "outputs": [
    {
     "data": {
      "text/html": [
       "<div>\n",
       "<style scoped>\n",
       "    .dataframe tbody tr th:only-of-type {\n",
       "        vertical-align: middle;\n",
       "    }\n",
       "\n",
       "    .dataframe tbody tr th {\n",
       "        vertical-align: top;\n",
       "    }\n",
       "\n",
       "    .dataframe thead th {\n",
       "        text-align: right;\n",
       "    }\n",
       "</style>\n",
       "<table border=\"1\" class=\"dataframe\">\n",
       "  <thead>\n",
       "    <tr style=\"text-align: right;\">\n",
       "      <th></th>\n",
       "      <th>AM</th>\n",
       "      <th>AMS</th>\n",
       "      <th>AMSW</th>\n",
       "      <th>AMW</th>\n",
       "      <th>AccelroX</th>\n",
       "      <th>AceelroY</th>\n",
       "      <th>AceelroZ</th>\n",
       "      <th>Activity</th>\n",
       "      <th>DMGrvX</th>\n",
       "      <th>DMGrvY</th>\n",
       "      <th>...</th>\n",
       "      <th>RecNo</th>\n",
       "      <th>SessionID</th>\n",
       "      <th>Side</th>\n",
       "      <th>TimeStamp</th>\n",
       "      <th>UAMS</th>\n",
       "      <th>UAMSW</th>\n",
       "      <th>UAMSWH</th>\n",
       "      <th>UAMW</th>\n",
       "      <th>UID</th>\n",
       "      <th>Wrist</th>\n",
       "    </tr>\n",
       "  </thead>\n",
       "  <tbody>\n",
       "    <tr>\n",
       "      <th>0</th>\n",
       "      <td>movements_el-exfl</td>\n",
       "      <td>movements_el-exfl_d</td>\n",
       "      <td>movements_el-exfl_d_rt</td>\n",
       "      <td>movements_el-exfl_rt</td>\n",
       "      <td>0.867294</td>\n",
       "      <td>-0.610596</td>\n",
       "      <td>0.495010</td>\n",
       "      <td>movements</td>\n",
       "      <td>0.749148</td>\n",
       "      <td>-0.499892</td>\n",
       "      <td>...</td>\n",
       "      <td>1</td>\n",
       "      <td>20200520-2216</td>\n",
       "      <td>d</td>\n",
       "      <td>1638.190163</td>\n",
       "      <td>u01_movements_el-exfl_d</td>\n",
       "      <td>u01_movements_el-exfl_d_rt</td>\n",
       "      <td>u01_movements_el-exfl_d_rt_20</td>\n",
       "      <td>u01_movements_el-exfl_rt</td>\n",
       "      <td>u01</td>\n",
       "      <td>rt</td>\n",
       "    </tr>\n",
       "    <tr>\n",
       "      <th>1</th>\n",
       "      <td>movements_el-exfl</td>\n",
       "      <td>movements_el-exfl_d</td>\n",
       "      <td>movements_el-exfl_d_rt</td>\n",
       "      <td>movements_el-exfl_rt</td>\n",
       "      <td>0.888245</td>\n",
       "      <td>-0.619827</td>\n",
       "      <td>0.520325</td>\n",
       "      <td>movements</td>\n",
       "      <td>0.682155</td>\n",
       "      <td>-0.536821</td>\n",
       "      <td>...</td>\n",
       "      <td>2</td>\n",
       "      <td>20200520-2216</td>\n",
       "      <td>d</td>\n",
       "      <td>1638.240161</td>\n",
       "      <td>u01_movements_el-exfl_d</td>\n",
       "      <td>u01_movements_el-exfl_d_rt</td>\n",
       "      <td>u01_movements_el-exfl_d_rt_20</td>\n",
       "      <td>u01_movements_el-exfl_rt</td>\n",
       "      <td>u01</td>\n",
       "      <td>rt</td>\n",
       "    </tr>\n",
       "    <tr>\n",
       "      <th>2</th>\n",
       "      <td>movements_el-exfl</td>\n",
       "      <td>movements_el-exfl_d</td>\n",
       "      <td>movements_el-exfl_d_rt</td>\n",
       "      <td>movements_el-exfl_rt</td>\n",
       "      <td>0.937393</td>\n",
       "      <td>-0.670593</td>\n",
       "      <td>0.619308</td>\n",
       "      <td>movements</td>\n",
       "      <td>0.573524</td>\n",
       "      <td>-0.586034</td>\n",
       "      <td>...</td>\n",
       "      <td>3</td>\n",
       "      <td>20200520-2216</td>\n",
       "      <td>d</td>\n",
       "      <td>1638.290159</td>\n",
       "      <td>u01_movements_el-exfl_d</td>\n",
       "      <td>u01_movements_el-exfl_d_rt</td>\n",
       "      <td>u01_movements_el-exfl_d_rt_20</td>\n",
       "      <td>u01_movements_el-exfl_rt</td>\n",
       "      <td>u01</td>\n",
       "      <td>rt</td>\n",
       "    </tr>\n",
       "    <tr>\n",
       "      <th>3</th>\n",
       "      <td>movements_el-exfl</td>\n",
       "      <td>movements_el-exfl_d</td>\n",
       "      <td>movements_el-exfl_d_rt</td>\n",
       "      <td>movements_el-exfl_rt</td>\n",
       "      <td>0.937500</td>\n",
       "      <td>-0.681778</td>\n",
       "      <td>0.749481</td>\n",
       "      <td>movements</td>\n",
       "      <td>0.419380</td>\n",
       "      <td>-0.635377</td>\n",
       "      <td>...</td>\n",
       "      <td>4</td>\n",
       "      <td>20200520-2216</td>\n",
       "      <td>d</td>\n",
       "      <td>1638.340157</td>\n",
       "      <td>u01_movements_el-exfl_d</td>\n",
       "      <td>u01_movements_el-exfl_d_rt</td>\n",
       "      <td>u01_movements_el-exfl_d_rt_20</td>\n",
       "      <td>u01_movements_el-exfl_rt</td>\n",
       "      <td>u01</td>\n",
       "      <td>rt</td>\n",
       "    </tr>\n",
       "    <tr>\n",
       "      <th>4</th>\n",
       "      <td>movements_el-exfl</td>\n",
       "      <td>movements_el-exfl_d</td>\n",
       "      <td>movements_el-exfl_d_rt</td>\n",
       "      <td>movements_el-exfl_rt</td>\n",
       "      <td>0.882339</td>\n",
       "      <td>-0.726654</td>\n",
       "      <td>0.808838</td>\n",
       "      <td>movements</td>\n",
       "      <td>0.231280</td>\n",
       "      <td>-0.675439</td>\n",
       "      <td>...</td>\n",
       "      <td>5</td>\n",
       "      <td>20200520-2216</td>\n",
       "      <td>d</td>\n",
       "      <td>1638.390155</td>\n",
       "      <td>u01_movements_el-exfl_d</td>\n",
       "      <td>u01_movements_el-exfl_d_rt</td>\n",
       "      <td>u01_movements_el-exfl_d_rt_20</td>\n",
       "      <td>u01_movements_el-exfl_rt</td>\n",
       "      <td>u01</td>\n",
       "      <td>rt</td>\n",
       "    </tr>\n",
       "  </tbody>\n",
       "</table>\n",
       "<p>5 rows × 40 columns</p>\n",
       "</div>"
      ],
      "text/plain": [
       "                  AM                  AMS                    AMSW  \\\n",
       "0  movements_el-exfl  movements_el-exfl_d  movements_el-exfl_d_rt   \n",
       "1  movements_el-exfl  movements_el-exfl_d  movements_el-exfl_d_rt   \n",
       "2  movements_el-exfl  movements_el-exfl_d  movements_el-exfl_d_rt   \n",
       "3  movements_el-exfl  movements_el-exfl_d  movements_el-exfl_d_rt   \n",
       "4  movements_el-exfl  movements_el-exfl_d  movements_el-exfl_d_rt   \n",
       "\n",
       "                    AMW  AccelroX  AceelroY  AceelroZ   Activity    DMGrvX  \\\n",
       "0  movements_el-exfl_rt  0.867294 -0.610596  0.495010  movements  0.749148   \n",
       "1  movements_el-exfl_rt  0.888245 -0.619827  0.520325  movements  0.682155   \n",
       "2  movements_el-exfl_rt  0.937393 -0.670593  0.619308  movements  0.573524   \n",
       "3  movements_el-exfl_rt  0.937500 -0.681778  0.749481  movements  0.419380   \n",
       "4  movements_el-exfl_rt  0.882339 -0.726654  0.808838  movements  0.231280   \n",
       "\n",
       "     DMGrvY  ...  RecNo      SessionID  Side    TimeStamp  \\\n",
       "0 -0.499892  ...      1  20200520-2216     d  1638.190163   \n",
       "1 -0.536821  ...      2  20200520-2216     d  1638.240161   \n",
       "2 -0.586034  ...      3  20200520-2216     d  1638.290159   \n",
       "3 -0.635377  ...      4  20200520-2216     d  1638.340157   \n",
       "4 -0.675439  ...      5  20200520-2216     d  1638.390155   \n",
       "\n",
       "                      UAMS                       UAMSW  \\\n",
       "0  u01_movements_el-exfl_d  u01_movements_el-exfl_d_rt   \n",
       "1  u01_movements_el-exfl_d  u01_movements_el-exfl_d_rt   \n",
       "2  u01_movements_el-exfl_d  u01_movements_el-exfl_d_rt   \n",
       "3  u01_movements_el-exfl_d  u01_movements_el-exfl_d_rt   \n",
       "4  u01_movements_el-exfl_d  u01_movements_el-exfl_d_rt   \n",
       "\n",
       "                          UAMSWH                      UAMW  UID  Wrist  \n",
       "0  u01_movements_el-exfl_d_rt_20  u01_movements_el-exfl_rt  u01     rt  \n",
       "1  u01_movements_el-exfl_d_rt_20  u01_movements_el-exfl_rt  u01     rt  \n",
       "2  u01_movements_el-exfl_d_rt_20  u01_movements_el-exfl_rt  u01     rt  \n",
       "3  u01_movements_el-exfl_d_rt_20  u01_movements_el-exfl_rt  u01     rt  \n",
       "4  u01_movements_el-exfl_d_rt_20  u01_movements_el-exfl_rt  u01     rt  \n",
       "\n",
       "[5 rows x 40 columns]"
      ]
     },
     "execution_count": 18,
     "metadata": {},
     "output_type": "execute_result"
    }
   ],
   "source": [
    "# Looking at the first 5 records\n",
    "data_train.head()"
   ]
  },
  {
   "cell_type": "markdown",
   "id": "f47ec495-76c0-4b26-8be5-10e580ee464f",
   "metadata": {},
   "source": [
    "**Observations:**\n",
    "\n",
    "- There are **188717 observations and 40 columns** in the dataset.\n",
    "- All the columns have 188717 non-null values, except **GyroX**, **GyroY**, **GyroZ** that have some missing value"
   ]
  },
  {
   "cell_type": "code",
   "execution_count": 20,
   "id": "e81df708-abb8-4fb6-b447-b3715018f666",
   "metadata": {},
   "outputs": [
    {
     "name": "stdout",
     "output_type": "stream",
     "text": [
      "<class 'pandas.core.frame.DataFrame'>\n",
      "RangeIndex: 188717 entries, 0 to 188716\n",
      "Data columns (total 40 columns):\n",
      " #   Column       Non-Null Count   Dtype  \n",
      "---  ------       --------------   -----  \n",
      " 0   AM           188717 non-null  object \n",
      " 1   AMS          188717 non-null  object \n",
      " 2   AMSW         188717 non-null  object \n",
      " 3   AMW          188717 non-null  object \n",
      " 4   AccelroX     188717 non-null  float64\n",
      " 5   AceelroY     188717 non-null  float64\n",
      " 6   AceelroZ     188717 non-null  float64\n",
      " 7   Activity     188717 non-null  object \n",
      " 8   DMGrvX       188717 non-null  float64\n",
      " 9   DMGrvY       188717 non-null  float64\n",
      " 10  DMGrvZ       188717 non-null  float64\n",
      " 11  DMPitch      188717 non-null  float64\n",
      " 12  DMQuatW      188717 non-null  float64\n",
      " 13  DMQuatX      188717 non-null  float64\n",
      " 14  DMQuatY      188717 non-null  float64\n",
      " 15  DMQuatZ      188717 non-null  float64\n",
      " 16  DMRoll       188717 non-null  float64\n",
      " 17  DMRotX       188717 non-null  float64\n",
      " 18  DMRotY       188717 non-null  float64\n",
      " 19  DMRotZ       188717 non-null  float64\n",
      " 20  DMUAccelX    188717 non-null  float64\n",
      " 21  DMUAccelY    188717 non-null  float64\n",
      " 22  DMUAccelZ    188717 non-null  float64\n",
      " 23  DMYaw        188717 non-null  float64\n",
      " 24  GyroX        167263 non-null  float64\n",
      " 25  GyroY        167263 non-null  float64\n",
      " 26  GyroZ        167263 non-null  float64\n",
      " 27  Hertz        188717 non-null  int64  \n",
      " 28  LoggingTime  188717 non-null  object \n",
      " 29  MoveType     188717 non-null  object \n",
      " 30  RecNo        188717 non-null  int64  \n",
      " 31  SessionID    188717 non-null  object \n",
      " 32  Side         188717 non-null  object \n",
      " 33  TimeStamp    188717 non-null  float64\n",
      " 34  UAMS         188717 non-null  object \n",
      " 35  UAMSW        188717 non-null  object \n",
      " 36  UAMSWH       188717 non-null  object \n",
      " 37  UAMW         188717 non-null  object \n",
      " 38  UID          188717 non-null  object \n",
      " 39  Wrist        188717 non-null  object \n",
      "dtypes: float64(23), int64(2), object(15)\n",
      "memory usage: 57.6+ MB\n"
     ]
    }
   ],
   "source": [
    "# Let us see the info of the data\n",
    "data_train.info()"
   ]
  },
  {
   "cell_type": "markdown",
   "id": "158c0bb3-6d57-4d42-9b5c-650ad32037f4",
   "metadata": {},
   "source": [
    "#### Print all the coloumns"
   ]
  },
  {
   "cell_type": "code",
   "execution_count": 22,
   "id": "ccd2b60d-706e-4b45-bf10-a99e2c5b0a4f",
   "metadata": {},
   "outputs": [
    {
     "data": {
      "text/html": [
       "<div>\n",
       "<style scoped>\n",
       "    .dataframe tbody tr th:only-of-type {\n",
       "        vertical-align: middle;\n",
       "    }\n",
       "\n",
       "    .dataframe tbody tr th {\n",
       "        vertical-align: top;\n",
       "    }\n",
       "\n",
       "    .dataframe thead th {\n",
       "        text-align: right;\n",
       "    }\n",
       "</style>\n",
       "<table border=\"1\" class=\"dataframe\">\n",
       "  <thead>\n",
       "    <tr style=\"text-align: right;\">\n",
       "      <th></th>\n",
       "      <th>AM</th>\n",
       "      <th>AMS</th>\n",
       "      <th>AMSW</th>\n",
       "      <th>AMW</th>\n",
       "      <th>AccelroX</th>\n",
       "      <th>AceelroY</th>\n",
       "      <th>AceelroZ</th>\n",
       "      <th>Activity</th>\n",
       "      <th>DMGrvX</th>\n",
       "      <th>DMGrvY</th>\n",
       "      <th>DMGrvZ</th>\n",
       "      <th>DMPitch</th>\n",
       "      <th>DMQuatW</th>\n",
       "      <th>DMQuatX</th>\n",
       "      <th>DMQuatY</th>\n",
       "      <th>DMQuatZ</th>\n",
       "      <th>DMRoll</th>\n",
       "      <th>DMRotX</th>\n",
       "      <th>DMRotY</th>\n",
       "      <th>DMRotZ</th>\n",
       "      <th>DMUAccelX</th>\n",
       "      <th>DMUAccelY</th>\n",
       "      <th>DMUAccelZ</th>\n",
       "      <th>DMYaw</th>\n",
       "      <th>GyroX</th>\n",
       "      <th>GyroY</th>\n",
       "      <th>GyroZ</th>\n",
       "      <th>Hertz</th>\n",
       "      <th>LoggingTime</th>\n",
       "      <th>MoveType</th>\n",
       "      <th>RecNo</th>\n",
       "      <th>SessionID</th>\n",
       "      <th>Side</th>\n",
       "      <th>TimeStamp</th>\n",
       "      <th>UAMS</th>\n",
       "      <th>UAMSW</th>\n",
       "      <th>UAMSWH</th>\n",
       "      <th>UAMW</th>\n",
       "      <th>UID</th>\n",
       "      <th>Wrist</th>\n",
       "    </tr>\n",
       "  </thead>\n",
       "  <tbody>\n",
       "    <tr>\n",
       "      <th>0</th>\n",
       "      <td>movements_el-exfl</td>\n",
       "      <td>movements_el-exfl_d</td>\n",
       "      <td>movements_el-exfl_d_rt</td>\n",
       "      <td>movements_el-exfl_rt</td>\n",
       "      <td>0.867294</td>\n",
       "      <td>-0.610596</td>\n",
       "      <td>0.495010</td>\n",
       "      <td>movements</td>\n",
       "      <td>0.749148</td>\n",
       "      <td>-0.499892</td>\n",
       "      <td>0.434609</td>\n",
       "      <td>0.523475</td>\n",
       "      <td>-0.295117</td>\n",
       "      <td>-0.846938</td>\n",
       "      <td>-5.551115e-17</td>\n",
       "      <td>0.442268</td>\n",
       "      <td>2.096483</td>\n",
       "      <td>0.144598</td>\n",
       "      <td>1.282162</td>\n",
       "      <td>0.881783</td>\n",
       "      <td>0.128766</td>\n",
       "      <td>-0.118439</td>\n",
       "      <td>0.073478</td>\n",
       "      <td>-2.835428</td>\n",
       "      <td>NaN</td>\n",
       "      <td>NaN</td>\n",
       "      <td>NaN</td>\n",
       "      <td>20</td>\n",
       "      <td>2020-05-20 22:16:14</td>\n",
       "      <td>el-exfl</td>\n",
       "      <td>1</td>\n",
       "      <td>20200520-2216</td>\n",
       "      <td>d</td>\n",
       "      <td>1638.190163</td>\n",
       "      <td>u01_movements_el-exfl_d</td>\n",
       "      <td>u01_movements_el-exfl_d_rt</td>\n",
       "      <td>u01_movements_el-exfl_d_rt_20</td>\n",
       "      <td>u01_movements_el-exfl_rt</td>\n",
       "      <td>u01</td>\n",
       "      <td>rt</td>\n",
       "    </tr>\n",
       "    <tr>\n",
       "      <th>1</th>\n",
       "      <td>movements_el-exfl</td>\n",
       "      <td>movements_el-exfl_d</td>\n",
       "      <td>movements_el-exfl_d_rt</td>\n",
       "      <td>movements_el-exfl_rt</td>\n",
       "      <td>0.888245</td>\n",
       "      <td>-0.619827</td>\n",
       "      <td>0.520325</td>\n",
       "      <td>movements</td>\n",
       "      <td>0.682155</td>\n",
       "      <td>-0.536821</td>\n",
       "      <td>0.496474</td>\n",
       "      <td>0.566665</td>\n",
       "      <td>-0.303562</td>\n",
       "      <td>-0.864882</td>\n",
       "      <td>1.468154e-02</td>\n",
       "      <td>0.399516</td>\n",
       "      <td>2.199939</td>\n",
       "      <td>0.181162</td>\n",
       "      <td>1.925150</td>\n",
       "      <td>1.423372</td>\n",
       "      <td>0.241062</td>\n",
       "      <td>-0.114393</td>\n",
       "      <td>0.091829</td>\n",
       "      <td>-2.881271</td>\n",
       "      <td>NaN</td>\n",
       "      <td>NaN</td>\n",
       "      <td>NaN</td>\n",
       "      <td>20</td>\n",
       "      <td>2020-05-20 22:16:14</td>\n",
       "      <td>el-exfl</td>\n",
       "      <td>2</td>\n",
       "      <td>20200520-2216</td>\n",
       "      <td>d</td>\n",
       "      <td>1638.240161</td>\n",
       "      <td>u01_movements_el-exfl_d</td>\n",
       "      <td>u01_movements_el-exfl_d_rt</td>\n",
       "      <td>u01_movements_el-exfl_d_rt_20</td>\n",
       "      <td>u01_movements_el-exfl_rt</td>\n",
       "      <td>u01</td>\n",
       "      <td>rt</td>\n",
       "    </tr>\n",
       "    <tr>\n",
       "      <th>2</th>\n",
       "      <td>movements_el-exfl</td>\n",
       "      <td>movements_el-exfl_d</td>\n",
       "      <td>movements_el-exfl_d_rt</td>\n",
       "      <td>movements_el-exfl_rt</td>\n",
       "      <td>0.937393</td>\n",
       "      <td>-0.670593</td>\n",
       "      <td>0.619308</td>\n",
       "      <td>movements</td>\n",
       "      <td>0.573524</td>\n",
       "      <td>-0.586034</td>\n",
       "      <td>0.572394</td>\n",
       "      <td>0.626155</td>\n",
       "      <td>-0.317248</td>\n",
       "      <td>-0.885966</td>\n",
       "      <td>3.551171e-02</td>\n",
       "      <td>0.336387</td>\n",
       "      <td>2.355209</td>\n",
       "      <td>0.144917</td>\n",
       "      <td>2.639169</td>\n",
       "      <td>1.953340</td>\n",
       "      <td>0.376992</td>\n",
       "      <td>-0.118343</td>\n",
       "      <td>0.151361</td>\n",
       "      <td>-2.954756</td>\n",
       "      <td>NaN</td>\n",
       "      <td>NaN</td>\n",
       "      <td>NaN</td>\n",
       "      <td>20</td>\n",
       "      <td>2020-05-20 22:16:14</td>\n",
       "      <td>el-exfl</td>\n",
       "      <td>3</td>\n",
       "      <td>20200520-2216</td>\n",
       "      <td>d</td>\n",
       "      <td>1638.290159</td>\n",
       "      <td>u01_movements_el-exfl_d</td>\n",
       "      <td>u01_movements_el-exfl_d_rt</td>\n",
       "      <td>u01_movements_el-exfl_d_rt_20</td>\n",
       "      <td>u01_movements_el-exfl_rt</td>\n",
       "      <td>u01</td>\n",
       "      <td>rt</td>\n",
       "    </tr>\n",
       "    <tr>\n",
       "      <th>3</th>\n",
       "      <td>movements_el-exfl</td>\n",
       "      <td>movements_el-exfl_d</td>\n",
       "      <td>movements_el-exfl_d_rt</td>\n",
       "      <td>movements_el-exfl_rt</td>\n",
       "      <td>0.937500</td>\n",
       "      <td>-0.681778</td>\n",
       "      <td>0.749481</td>\n",
       "      <td>movements</td>\n",
       "      <td>0.419380</td>\n",
       "      <td>-0.635377</td>\n",
       "      <td>0.648395</td>\n",
       "      <td>0.688497</td>\n",
       "      <td>-0.334062</td>\n",
       "      <td>-0.905906</td>\n",
       "      <td>5.943376e-02</td>\n",
       "      <td>0.253387</td>\n",
       "      <td>2.567473</td>\n",
       "      <td>0.034464</td>\n",
       "      <td>3.186646</td>\n",
       "      <td>2.189676</td>\n",
       "      <td>0.481591</td>\n",
       "      <td>-0.083098</td>\n",
       "      <td>0.152051</td>\n",
       "      <td>-3.061722</td>\n",
       "      <td>NaN</td>\n",
       "      <td>NaN</td>\n",
       "      <td>NaN</td>\n",
       "      <td>20</td>\n",
       "      <td>2020-05-20 22:16:14</td>\n",
       "      <td>el-exfl</td>\n",
       "      <td>4</td>\n",
       "      <td>20200520-2216</td>\n",
       "      <td>d</td>\n",
       "      <td>1638.340157</td>\n",
       "      <td>u01_movements_el-exfl_d</td>\n",
       "      <td>u01_movements_el-exfl_d_rt</td>\n",
       "      <td>u01_movements_el-exfl_d_rt_20</td>\n",
       "      <td>u01_movements_el-exfl_rt</td>\n",
       "      <td>u01</td>\n",
       "      <td>rt</td>\n",
       "    </tr>\n",
       "    <tr>\n",
       "      <th>4</th>\n",
       "      <td>movements_el-exfl</td>\n",
       "      <td>movements_el-exfl_d</td>\n",
       "      <td>movements_el-exfl_d_rt</td>\n",
       "      <td>movements_el-exfl_rt</td>\n",
       "      <td>0.882339</td>\n",
       "      <td>-0.726654</td>\n",
       "      <td>0.808838</td>\n",
       "      <td>movements</td>\n",
       "      <td>0.231280</td>\n",
       "      <td>-0.675439</td>\n",
       "      <td>0.700209</td>\n",
       "      <td>0.741560</td>\n",
       "      <td>-0.353671</td>\n",
       "      <td>-0.918353</td>\n",
       "      <td>8.205076e-02</td>\n",
       "      <td>0.157520</td>\n",
       "      <td>2.822574</td>\n",
       "      <td>-0.203090</td>\n",
       "      <td>3.482161</td>\n",
       "      <td>2.350137</td>\n",
       "      <td>0.610502</td>\n",
       "      <td>-0.048835</td>\n",
       "      <td>0.167590</td>\n",
       "      <td>3.088297</td>\n",
       "      <td>NaN</td>\n",
       "      <td>NaN</td>\n",
       "      <td>NaN</td>\n",
       "      <td>20</td>\n",
       "      <td>2020-05-20 22:16:14</td>\n",
       "      <td>el-exfl</td>\n",
       "      <td>5</td>\n",
       "      <td>20200520-2216</td>\n",
       "      <td>d</td>\n",
       "      <td>1638.390155</td>\n",
       "      <td>u01_movements_el-exfl_d</td>\n",
       "      <td>u01_movements_el-exfl_d_rt</td>\n",
       "      <td>u01_movements_el-exfl_d_rt_20</td>\n",
       "      <td>u01_movements_el-exfl_rt</td>\n",
       "      <td>u01</td>\n",
       "      <td>rt</td>\n",
       "    </tr>\n",
       "  </tbody>\n",
       "</table>\n",
       "</div>"
      ],
      "text/plain": [
       "                  AM                  AMS                    AMSW  \\\n",
       "0  movements_el-exfl  movements_el-exfl_d  movements_el-exfl_d_rt   \n",
       "1  movements_el-exfl  movements_el-exfl_d  movements_el-exfl_d_rt   \n",
       "2  movements_el-exfl  movements_el-exfl_d  movements_el-exfl_d_rt   \n",
       "3  movements_el-exfl  movements_el-exfl_d  movements_el-exfl_d_rt   \n",
       "4  movements_el-exfl  movements_el-exfl_d  movements_el-exfl_d_rt   \n",
       "\n",
       "                    AMW  AccelroX  AceelroY  AceelroZ   Activity    DMGrvX  \\\n",
       "0  movements_el-exfl_rt  0.867294 -0.610596  0.495010  movements  0.749148   \n",
       "1  movements_el-exfl_rt  0.888245 -0.619827  0.520325  movements  0.682155   \n",
       "2  movements_el-exfl_rt  0.937393 -0.670593  0.619308  movements  0.573524   \n",
       "3  movements_el-exfl_rt  0.937500 -0.681778  0.749481  movements  0.419380   \n",
       "4  movements_el-exfl_rt  0.882339 -0.726654  0.808838  movements  0.231280   \n",
       "\n",
       "     DMGrvY    DMGrvZ   DMPitch   DMQuatW   DMQuatX       DMQuatY   DMQuatZ  \\\n",
       "0 -0.499892  0.434609  0.523475 -0.295117 -0.846938 -5.551115e-17  0.442268   \n",
       "1 -0.536821  0.496474  0.566665 -0.303562 -0.864882  1.468154e-02  0.399516   \n",
       "2 -0.586034  0.572394  0.626155 -0.317248 -0.885966  3.551171e-02  0.336387   \n",
       "3 -0.635377  0.648395  0.688497 -0.334062 -0.905906  5.943376e-02  0.253387   \n",
       "4 -0.675439  0.700209  0.741560 -0.353671 -0.918353  8.205076e-02  0.157520   \n",
       "\n",
       "     DMRoll    DMRotX    DMRotY    DMRotZ  DMUAccelX  DMUAccelY  DMUAccelZ  \\\n",
       "0  2.096483  0.144598  1.282162  0.881783   0.128766  -0.118439   0.073478   \n",
       "1  2.199939  0.181162  1.925150  1.423372   0.241062  -0.114393   0.091829   \n",
       "2  2.355209  0.144917  2.639169  1.953340   0.376992  -0.118343   0.151361   \n",
       "3  2.567473  0.034464  3.186646  2.189676   0.481591  -0.083098   0.152051   \n",
       "4  2.822574 -0.203090  3.482161  2.350137   0.610502  -0.048835   0.167590   \n",
       "\n",
       "      DMYaw  GyroX  GyroY  GyroZ  Hertz          LoggingTime MoveType  RecNo  \\\n",
       "0 -2.835428    NaN    NaN    NaN     20  2020-05-20 22:16:14  el-exfl      1   \n",
       "1 -2.881271    NaN    NaN    NaN     20  2020-05-20 22:16:14  el-exfl      2   \n",
       "2 -2.954756    NaN    NaN    NaN     20  2020-05-20 22:16:14  el-exfl      3   \n",
       "3 -3.061722    NaN    NaN    NaN     20  2020-05-20 22:16:14  el-exfl      4   \n",
       "4  3.088297    NaN    NaN    NaN     20  2020-05-20 22:16:14  el-exfl      5   \n",
       "\n",
       "       SessionID Side    TimeStamp                     UAMS  \\\n",
       "0  20200520-2216    d  1638.190163  u01_movements_el-exfl_d   \n",
       "1  20200520-2216    d  1638.240161  u01_movements_el-exfl_d   \n",
       "2  20200520-2216    d  1638.290159  u01_movements_el-exfl_d   \n",
       "3  20200520-2216    d  1638.340157  u01_movements_el-exfl_d   \n",
       "4  20200520-2216    d  1638.390155  u01_movements_el-exfl_d   \n",
       "\n",
       "                        UAMSW                         UAMSWH  \\\n",
       "0  u01_movements_el-exfl_d_rt  u01_movements_el-exfl_d_rt_20   \n",
       "1  u01_movements_el-exfl_d_rt  u01_movements_el-exfl_d_rt_20   \n",
       "2  u01_movements_el-exfl_d_rt  u01_movements_el-exfl_d_rt_20   \n",
       "3  u01_movements_el-exfl_d_rt  u01_movements_el-exfl_d_rt_20   \n",
       "4  u01_movements_el-exfl_d_rt  u01_movements_el-exfl_d_rt_20   \n",
       "\n",
       "                       UAMW  UID Wrist  \n",
       "0  u01_movements_el-exfl_rt  u01    rt  \n",
       "1  u01_movements_el-exfl_rt  u01    rt  \n",
       "2  u01_movements_el-exfl_rt  u01    rt  \n",
       "3  u01_movements_el-exfl_rt  u01    rt  \n",
       "4  u01_movements_el-exfl_rt  u01    rt  "
      ]
     },
     "execution_count": 22,
     "metadata": {},
     "output_type": "execute_result"
    }
   ],
   "source": [
    "# We want to see all columns\n",
    "# Set pandas to display all columns\n",
    "pd.set_option('display.max_columns', None)\n",
    "\n",
    "# Display the first few rows of the DataFrame\n",
    "data_train.head()"
   ]
  },
  {
   "cell_type": "markdown",
   "id": "6913fa14-193d-424e-839b-d88001ff06a4",
   "metadata": {},
   "source": [
    "### **Observations**\n",
    "\n",
    "It appears that the columns ***AM***, ***AMS***, ***AMSW***, ***AMW***, ***UAMS***, ***UAMSW***, ***UAMSWH***, and ***UAMW*** contain concatenated strings that are derived from other columns to represent specific activity movements and sessions. Let's break down each of these columns and their possible meanings:\n",
    "\n",
    "- **AM (Activity Movement)**:\n",
    "\n",
    "    Contains the overall movement type. Examples: `movements_el-exfl`, `movements_sh-exfl`.\n",
    "    Likely a high-level category of the activity, specifying the type of movement involving a specific body part (e.g., elbow, shoulder).\n",
    "\n",
    "- **AMS (Activity Movement with Side)**:\n",
    "\n",
    "    Contains the movement type with a side designation. Examples: `movements_el-exfl_d`, `movements_sh-exfl_nd`.\n",
    "    Likely indicates the side of the body involved in the activity (e.g., dominant, non-dominant).\n",
    "\n",
    "- **AMSW (Activity Movement with Side and Wrist)**:\n",
    "\n",
    "    Contains the movement type with side and wrist designation. Examples: `movements_el-exfl_d_rt`, `movements_sh-exfl_nd_lt`.\n",
    "    Likely specifies which wrist (right or left) is being used in the movement.\n",
    "\n",
    "- **AMW (Activity Movement with Wrist)**:\n",
    "\n",
    "    Contains the movement type with wrist designation. Examples: `movements_el-exfl_rt`, `movements_sh-exfl_lt`.\n",
    "    Likely indicates the wrist involved in the activity without specifying the side of the body.\n",
    "\n",
    "- **UAMS (User Activity Movement with Side)**:\n",
    "\n",
    "    Concatenates the user ID with the movement type and side. Examples: `u01_movements_el-exfl_d`, `u01_movements_sh-exfl_nd`.\n",
    "    Likely specifies the user performing the activity along with the movement type and side.\n",
    "\n",
    "- **UAMSW (User Activity Movement with Side and Wrist)**:\n",
    "\n",
    "    Concatenates the user ID with the movement type, side, and wrist. Examples: `u01_movements_el-exfl_d_rt`, `u01_movements_sh-exfl_nd_lt`.\n",
    "    Likely specifies the user, the movement type, side, and which wrist is involved.\n",
    "\n",
    "- **UAMSWH (User Activity Movement with Side, Wrist, and Hertz)**:\n",
    "\n",
    "    Concatenates the user ID with the movement type, side, wrist, and Hertz. Examples: `u01_movements_el-exfl_d_rt_20`, `u01_movements_sh-exfl_nd_lt_100`.\n",
    "    Likely specifies the user, the movement type, side, wrist, and the sampling rate (Hertz).\n",
    "\n",
    "- **UAMW (User Activity Movement with Wrist)**:\n",
    "\n",
    "    Concatenates the user ID with the movement type and wrist. Examples: `u01_movements_el-exfl_rt`, `u01_movements_sh-exfl_lt`.\n",
    "    Likely specifies the user and the movement type with wrist involvement."
   ]
  },
  {
   "cell_type": "markdown",
   "id": "84a8fecd-cedc-4cdd-aab9-2957442e418e",
   "metadata": {},
   "source": [
    "<div class=\"alert alert-block alert-warning\">\n",
    "We drop the following columns: <b>AM</b>, <b>AMS</b>, <b>AMSW</b>, <b>AMW</b>, <b>UAMS</b>, <b>UAMSW</b>, <b>UAMSWH</b>, and <b>UAMW</b>\n",
    "\n",
    "These columns are redundant we can derive the necessary information from other columns\n",
    "</div>"
   ]
  },
  {
   "cell_type": "markdown",
   "id": "c59858dd-42bd-43be-a97a-4dd006eda823",
   "metadata": {
    "tags": []
   },
   "source": [
    "#### Drop unnecessary columns"
   ]
  },
  {
   "cell_type": "code",
   "execution_count": 26,
   "id": "e660a2ef-7446-449a-8bf4-d1c507f8336f",
   "metadata": {},
   "outputs": [
    {
     "name": "stdout",
     "output_type": "stream",
     "text": [
      "Index(['AccelroX', 'AceelroY', 'AceelroZ', 'Activity', 'DMGrvX', 'DMGrvY',\n",
      "       'DMGrvZ', 'DMPitch', 'DMQuatW', 'DMQuatX', 'DMQuatY', 'DMQuatZ',\n",
      "       'DMRoll', 'DMRotX', 'DMRotY', 'DMRotZ', 'DMUAccelX', 'DMUAccelY',\n",
      "       'DMUAccelZ', 'DMYaw', 'GyroX', 'GyroY', 'GyroZ', 'Hertz', 'LoggingTime',\n",
      "       'MoveType', 'RecNo', 'SessionID', 'Side', 'TimeStamp', 'UID', 'Wrist'],\n",
      "      dtype='object')\n"
     ]
    }
   ],
   "source": [
    "# List of columns to drop\n",
    "columns_to_drop = ['AM', 'AMS', 'AMSW', 'AMW', 'UAMS', 'UAMSW', 'UAMSWH', 'UAMW']\n",
    "\n",
    "# Drop the columns from the DataFrame\n",
    "data_train = data_train.drop(columns=columns_to_drop)\n",
    "\n",
    "# Verify the columns are dropped\n",
    "print(data_train.columns)"
   ]
  },
  {
   "cell_type": "markdown",
   "id": "be726fd0-7374-4062-91fb-8dbc9413eb4b",
   "metadata": {},
   "source": [
    "**Check for Duplicates**"
   ]
  },
  {
   "cell_type": "code",
   "execution_count": 28,
   "id": "7e7deaea-c0e3-442e-a3f6-fcf08bf84304",
   "metadata": {},
   "outputs": [
    {
     "name": "stdout",
     "output_type": "stream",
     "text": [
      "No of duplicates in train: 0\n",
      "No of duplicates in test : 0\n"
     ]
    }
   ],
   "source": [
    "print('No of duplicates in train: {}'.format(sum(data_train.duplicated())))\n",
    "print('No of duplicates in test : {}'.format(sum(data_test.duplicated())))"
   ]
  },
  {
   "cell_type": "markdown",
   "id": "a65ccc96-9190-44de-8d72-ba9c0436ea74",
   "metadata": {},
   "source": [
    "***No duplicates entries on the train dataset***"
   ]
  },
  {
   "cell_type": "markdown",
   "id": "1a048675-51e9-4a7a-86ff-1ddb6f52d171",
   "metadata": {},
   "source": [
    "**Check for Missing values**"
   ]
  },
  {
   "cell_type": "code",
   "execution_count": 31,
   "id": "eb439acb-f7cb-48ab-8116-410bdb43feb4",
   "metadata": {},
   "outputs": [
    {
     "data": {
      "text/plain": [
       "AccelroX           0\n",
       "AceelroY           0\n",
       "AceelroZ           0\n",
       "Activity           0\n",
       "DMGrvX             0\n",
       "DMGrvY             0\n",
       "DMGrvZ             0\n",
       "DMPitch            0\n",
       "DMQuatW            0\n",
       "DMQuatX            0\n",
       "DMQuatY            0\n",
       "DMQuatZ            0\n",
       "DMRoll             0\n",
       "DMRotX             0\n",
       "DMRotY             0\n",
       "DMRotZ             0\n",
       "DMUAccelX          0\n",
       "DMUAccelY          0\n",
       "DMUAccelZ          0\n",
       "DMYaw              0\n",
       "GyroX          21454\n",
       "GyroY          21454\n",
       "GyroZ          21454\n",
       "Hertz              0\n",
       "LoggingTime        0\n",
       "MoveType           0\n",
       "RecNo              0\n",
       "SessionID          0\n",
       "Side               0\n",
       "TimeStamp          0\n",
       "UID                0\n",
       "Wrist              0\n",
       "dtype: int64"
      ]
     },
     "execution_count": 31,
     "metadata": {},
     "output_type": "execute_result"
    }
   ],
   "source": [
    "data_train.isnull().sum()"
   ]
  },
  {
   "cell_type": "code",
   "execution_count": 32,
   "id": "23caff35-7e90-459a-95ec-d6d1e3b8eaea",
   "metadata": {},
   "outputs": [
    {
     "name": "stdout",
     "output_type": "stream",
     "text": [
      "Columns with missing values in train data:\n",
      " GyroX    21454\n",
      "GyroY    21454\n",
      "GyroZ    21454\n",
      "dtype: int64\n"
     ]
    }
   ],
   "source": [
    "missing_train_values = data_train.isnull().sum()\n",
    "missing_test_values = data_train.isnull().sum()\n",
    "\n",
    "# Check if there are any columns with missing values in train\n",
    "if missing_train_values.any():\n",
    "    print('Columns with missing values in train data:\\n', missing_train_values[missing_train_values > 0])\n",
    "else:\n",
    "    print(\"No columns with missing values.\")"
   ]
  },
  {
   "cell_type": "code",
   "execution_count": 33,
   "id": "5db226d0-04a2-423b-9b36-a146582147a0",
   "metadata": {},
   "outputs": [
    {
     "name": "stdout",
     "output_type": "stream",
     "text": [
      "Columns with missing values in test data:\n",
      " GyroX    21454\n",
      "GyroY    21454\n",
      "GyroZ    21454\n",
      "dtype: int64\n"
     ]
    }
   ],
   "source": [
    "# Check if there are any columns with missing values in test\n",
    "if missing_test_values.any():\n",
    "    print('Columns with missing values in test data:\\n', missing_test_values[missing_test_values > 0])\n",
    "else:\n",
    "    print(\"No columns with missing values.\")"
   ]
  },
  {
   "cell_type": "markdown",
   "id": "3c0c2cc7-3e21-4569-9959-67efaa9286ec",
   "metadata": {},
   "source": [
    "**GyroX**, **GyroY**, **GyroZ** have 21454 missing value"
   ]
  },
  {
   "cell_type": "markdown",
   "id": "d9ec4154-c48f-4d45-8228-059abc2efb3c",
   "metadata": {},
   "source": [
    "**Let's check the unique values in each column**"
   ]
  },
  {
   "cell_type": "code",
   "execution_count": 36,
   "id": "475ad1e5-0f2e-40b0-b104-626ef51a1d94",
   "metadata": {},
   "outputs": [
    {
     "data": {
      "text/plain": [
       "AccelroX        19460\n",
       "AceelroY        17847\n",
       "AceelroZ        19261\n",
       "Activity            1\n",
       "DMGrvX         188263\n",
       "DMGrvY         188309\n",
       "DMGrvZ         188392\n",
       "DMPitch        188717\n",
       "DMQuatW        188717\n",
       "DMQuatX        188717\n",
       "DMQuatY        188690\n",
       "DMQuatZ        188708\n",
       "DMRoll         188717\n",
       "DMRotX         188544\n",
       "DMRotY         188561\n",
       "DMRotZ         188576\n",
       "DMUAccelX      187749\n",
       "DMUAccelY      187924\n",
       "DMUAccelZ      186315\n",
       "DMYaw          188717\n",
       "GyroX               1\n",
       "GyroY               1\n",
       "GyroZ               1\n",
       "Hertz               2\n",
       "LoggingTime      1146\n",
       "MoveType            3\n",
       "RecNo            3002\n",
       "SessionID          35\n",
       "Side                2\n",
       "TimeStamp      188717\n",
       "UID                 3\n",
       "Wrist               2\n",
       "dtype: int64"
      ]
     },
     "execution_count": 36,
     "metadata": {},
     "output_type": "execute_result"
    }
   ],
   "source": [
    "# Checking the count of unique values in each column\n",
    "data_train.nunique()"
   ]
  },
  {
   "cell_type": "markdown",
   "id": "6647e9b6-2f90-4974-8c5a-49bccb9c3f8e",
   "metadata": {},
   "source": [
    "- There are only one value for **GyroX**, **GyroY**, **GyroZ**, and **Activity**\n",
    "- Lets check these values in train set"
   ]
  },
  {
   "cell_type": "code",
   "execution_count": 38,
   "id": "4c06d97b-a4b1-4c65-a27c-f4ec6d54f5ff",
   "metadata": {},
   "outputs": [
    {
     "name": "stdout",
     "output_type": "stream",
     "text": [
      "GyroX: [nan  0.]\n",
      "GyroY: [nan  0.]\n",
      "GyroZ: [nan  0.]\n",
      "Activity: ['movements']\n"
     ]
    }
   ],
   "source": [
    "print('GyroX:', data_train['GyroX'].unique())\n",
    "print('GyroY:', data_train['GyroY'].unique())\n",
    "print('GyroZ:', data_train['GyroY'].unique())\n",
    "print('Activity:', data_train['Activity'].unique())"
   ]
  },
  {
   "cell_type": "markdown",
   "id": "27f77feb-5fb2-4366-bd88-f88dbb2c69ac",
   "metadata": {},
   "source": [
    "* The column **Activity** contains only one value = movements\n",
    "* The columns **GyroX**, **GyroY**, **GyroZ** have missing values or 0. It seems the gyroscopes is not working!"
   ]
  },
  {
   "cell_type": "code",
   "execution_count": 40,
   "id": "7f219756-c30d-4eef-a4ba-8cc58a9f1460",
   "metadata": {},
   "outputs": [
    {
     "name": "stdout",
     "output_type": "stream",
     "text": [
      "GyroX: [ 0. nan]\n",
      "GyroY: [ 0. nan]\n",
      "GyroZ: [ 0. nan]\n",
      "Activity: ['movements']\n"
     ]
    }
   ],
   "source": [
    "print('GyroX:', data_test['GyroX'].unique())\n",
    "print('GyroY:', data_test['GyroY'].unique())\n",
    "print('GyroZ:', data_test['GyroY'].unique())\n",
    "print('Activity:', data_test['Activity'].unique())"
   ]
  },
  {
   "cell_type": "code",
   "execution_count": 41,
   "id": "656524ad-1211-430e-9cda-e15c3d425899",
   "metadata": {},
   "outputs": [],
   "source": [
    "# Dropping the columns GyroX, GyroY, GyroZ\n",
    "data_train.drop(columns = [\"GyroX\", \"GyroY\", \"GyroZ\"], inplace = True)"
   ]
  },
  {
   "cell_type": "code",
   "execution_count": 42,
   "id": "8c27f427-5617-4866-9e37-0f9253fb2cf1",
   "metadata": {},
   "outputs": [],
   "source": [
    "# Dropping the column \"Activity\" there is only one value = movements\n",
    "data_train.drop(columns = [\"Activity\"], inplace = True)"
   ]
  },
  {
   "cell_type": "code",
   "execution_count": 43,
   "id": "317a92f1-32d1-42f3-aefc-007ac5f0382e",
   "metadata": {},
   "outputs": [],
   "source": [
    "# Dropping the column \"RecNo\" and \"SessionId\" they don't add any value\n",
    "data_train.drop(columns = [\"SessionID\", \"RecNo\"], inplace = True)"
   ]
  },
  {
   "cell_type": "markdown",
   "id": "c7028070-1155-41f6-80c6-4bda01e24d29",
   "metadata": {},
   "source": [
    "**Let's print the unique value for the categorical columns**"
   ]
  },
  {
   "cell_type": "code",
   "execution_count": 45,
   "id": "f51499e3-cfee-45cf-b681-0aa039afeda9",
   "metadata": {},
   "outputs": [
    {
     "data": {
      "text/html": [
       "<div>\n",
       "<style scoped>\n",
       "    .dataframe tbody tr th:only-of-type {\n",
       "        vertical-align: middle;\n",
       "    }\n",
       "\n",
       "    .dataframe tbody tr th {\n",
       "        vertical-align: top;\n",
       "    }\n",
       "\n",
       "    .dataframe thead th {\n",
       "        text-align: right;\n",
       "    }\n",
       "</style>\n",
       "<table border=\"1\" class=\"dataframe\">\n",
       "  <thead>\n",
       "    <tr style=\"text-align: right;\">\n",
       "      <th></th>\n",
       "      <th>Column Name</th>\n",
       "      <th>Unique Values</th>\n",
       "    </tr>\n",
       "  </thead>\n",
       "  <tbody>\n",
       "    <tr>\n",
       "      <th>0</th>\n",
       "      <td>Hertz</td>\n",
       "      <td>20, 100</td>\n",
       "    </tr>\n",
       "    <tr>\n",
       "      <th>1</th>\n",
       "      <td>MoveType</td>\n",
       "      <td>el-exfl, sh-exfl, wr-prsu</td>\n",
       "    </tr>\n",
       "    <tr>\n",
       "      <th>2</th>\n",
       "      <td>Side</td>\n",
       "      <td>d,  nd</td>\n",
       "    </tr>\n",
       "    <tr>\n",
       "      <th>3</th>\n",
       "      <td>UID</td>\n",
       "      <td>u01, u05, u04</td>\n",
       "    </tr>\n",
       "    <tr>\n",
       "      <th>4</th>\n",
       "      <td>Wrist</td>\n",
       "      <td>rt,  lt</td>\n",
       "    </tr>\n",
       "  </tbody>\n",
       "</table>\n",
       "</div>"
      ],
      "text/plain": [
       "  Column Name              Unique Values\n",
       "0       Hertz                    20, 100\n",
       "1    MoveType  el-exfl, sh-exfl, wr-prsu\n",
       "2        Side                     d,  nd\n",
       "3         UID              u01, u05, u04\n",
       "4       Wrist                    rt,  lt"
      ]
     },
     "execution_count": 45,
     "metadata": {},
     "output_type": "execute_result"
    }
   ],
   "source": [
    "unique_counts = data_train.nunique()\n",
    "\n",
    "# Filter columns with less than 10 unique values\n",
    "columns_with_few_unique_values = unique_counts[unique_counts < 10].index\n",
    "\n",
    "# Create a dictionary to store the column names and their unique values\n",
    "unique_values_dict = {}\n",
    "\n",
    "for column in columns_with_few_unique_values:\n",
    "    unique_values = data_train[column].unique()\n",
    "    formatted_unique_values = ', '.join(map(str, unique_values))\n",
    "    unique_values_dict[column] = [formatted_unique_values]\n",
    "\n",
    "# Convert the dictionary to a DataFrame\n",
    "unique_values_df = pd.DataFrame.from_dict(unique_values_dict, orient='index', columns=['Unique Values'])\n",
    "\n",
    "# Reset the index to make the DataFrame more readable\n",
    "unique_values_df.reset_index(inplace=True)\n",
    "unique_values_df.rename(columns={'index': 'Column Name'}, inplace=True)\n",
    "\n",
    "# Adjust display options to avoid truncation\n",
    "pd.set_option('display.max_colwidth', None)\n",
    "\n",
    "# Display the DataFrame\n",
    "unique_values_df"
   ]
  },
  {
   "cell_type": "markdown",
   "id": "ba4cc3e3-7904-4535-b723-a24e5ee92d1a",
   "metadata": {},
   "source": [
    "**Observations:**\n",
    "\n",
    "**MoveType:**\n",
    "\n",
    "These are the common exercise and movement terminology used in activity recognition and fitness tracking\n",
    "\n",
    "| `el-exfl` | `sh-exfl` | `wr-prsu`|\n",
    "|----------|----------|----------|\n",
    "|  **el**: Elbow | **sh**: Shoulder | **wr**: Wrist |\n",
    "| **exfl**: Extension/Flexion | **exfl**: Extension/Flexion | **prsu**: Pronation/Supination |\n",
    "| This refers to the activity involving the extension <br> and flexion of the elbow joint, such as bicep  curls or tricep extensions. | This refers to the activity involving the extension and <br> flexion of the shoulder joint, such as shoulder presses or front raises.2 | This refers to the activity involving the pronation and <br> supination of the wrist, such as turning the forearm so the palm faces up or down. |\n",
    "\n",
    "**Side:** Dominant `d` and Non-dominant `nd`\n",
    "\n",
    "**Hertz:** Two different frequencies: `20 Hz` and `100 Hz`.\n",
    "\n",
    "**Wrist:** Right `rt` and Left `lt`\n",
    "\n",
    "**UID:** Unique user ID: 3 users in the dataset `u01`, `u04`, and `u05`."
   ]
  },
  {
   "cell_type": "markdown",
   "id": "7010dd68-6efa-4a81-820c-8887864e11a5",
   "metadata": {
    "tags": []
   },
   "source": [
    "## <b>Distribution of Categorical Columns</b>"
   ]
  },
  {
   "cell_type": "code",
   "execution_count": 48,
   "id": "f8bce4f0-cf51-47a8-8595-4b2ee35a01ab",
   "metadata": {},
   "outputs": [
    {
     "data": {
      "image/png": "[encoded data removed]",
      "text/plain": [
       "<Figure size 500x400 with 1 Axes>"
      ]
     },
     "metadata": {},
     "output_type": "display_data"
    },
    {
     "data": {
      "image/png": "[encoded data removed]",
      "text/plain": [
       "<Figure size 500x400 with 1 Axes>"
      ]
     },
     "metadata": {},
     "output_type": "display_data"
    },
    {
     "data": {
      "image/png": "[encoded data removed]",
      "text/plain": [
       "<Figure size 500x400 with 1 Axes>"
      ]
     },
     "metadata": {},
     "output_type": "display_data"
    },
    {
     "data": {
      "image/png": "[encoded data removed]",
      "text/plain": [
       "<Figure size 500x400 with 1 Axes>"
      ]
     },
     "metadata": {},
     "output_type": "display_data"
    },
    {
     "data": {
      "image/png": "[encoded data removed]",
      "text/plain": [
       "<Figure size 500x400 with 1 Axes>"
      ]
     },
     "metadata": {},
     "output_type": "display_data"
    }
   ],
   "source": [
    "# Convert necessary columns to categorical types\n",
    "categorical_columns = ['Hertz', 'MoveType', 'Side', 'UID', 'Wrist']\n",
    "for column in categorical_columns:\n",
    "    data_train[column] = data_train[column].astype('category')\n",
    "\n",
    "# Plot the distribution of Hertz\n",
    "plt.figure(figsize=(5, 4))\n",
    "sns.countplot(x='Hertz', data=data_train)\n",
    "plt.title('Distribution of Hertz')\n",
    "plt.xlabel('Hertz')\n",
    "plt.ylabel('Count')\n",
    "plt.show()\n",
    "\n",
    "# Plot the distribution of MoveType\n",
    "plt.figure(figsize=(5, 4))\n",
    "sns.countplot(x='MoveType', data=data_train)\n",
    "plt.title('Distribution of MoveType')\n",
    "plt.xlabel('MoveType')\n",
    "plt.ylabel('Count')\n",
    "plt.show()\n",
    "\n",
    "# Plot the distribution of Side\n",
    "plt.figure(figsize=(5, 4))\n",
    "sns.countplot(x='Side', data=data_train)\n",
    "plt.title('Distribution of Side (Dominant vs Non-dominant)')\n",
    "plt.xlabel('Side')\n",
    "plt.ylabel('Count')\n",
    "plt.show()\n",
    "\n",
    "# Plot the distribution of UID\n",
    "plt.figure(figsize=(5, 4))\n",
    "sns.countplot(x='UID', data=data_train)\n",
    "plt.title('Distribution of UID')\n",
    "plt.xlabel('UID')\n",
    "plt.ylabel('Count')\n",
    "plt.show()\n",
    "\n",
    "# Plot the distribution of Wrist\n",
    "plt.figure(figsize=(5, 4))\n",
    "sns.countplot(x='Wrist', data=data_train)\n",
    "plt.title('Distribution of Wrist (Right vs Left)')\n",
    "plt.xlabel('Wrist')\n",
    "plt.ylabel('Count')\n",
    "plt.show()"
   ]
  },
  {
   "cell_type": "markdown",
   "id": "ef121346-4315-4e60-846e-42c25b3a6aab",
   "metadata": {},
   "source": [
    "### **Observations and Insights** ###\n",
    "\n",
    "   **1. Hertz**\n",
    "   \n",
    "   - The data is recorded at two different frequencies: `20 Hz` and `100 Hz`.\n",
    "   - There are more data points recorded at `100 Hz` than at `20 Hz`.\n",
    "   - The higher sampling rate `100 Hz` is likely used for activities that require more precise measurements of movement, as it captures more data points per second compared to `20 Hz`.\n",
    "    \n",
    "   **2. MoveType**\n",
    "\n",
    "   - The MoveType distribution shows three distinct types of movements: `el-exfl` (elbow flexion/extension), `sh-exfl` (shoulder flexion/extension), and `wr-prsu` (wrist pronation/supination).\n",
    "   - `el-exfl` has the highest count, followed by `sh-exfl`, and `wr-prsu` has the lowest count.\n",
    "   - Elbow flexion/extension movements are the most common in the dataset, which might indicate that the exercises or activities being monitored involve frequent use of the elbows.\n",
    "   - The wrist movements are the least frequent, suggesting they might be less emphasized or less commonly recorded in the activities.\n",
    "    \n",
    "**3. Side (Dominant vs Non-dominant)**\n",
    "\n",
    "- The non-dominant side `nd` has a slightly higher count than the dominant side `d`.\n",
    "- The higher count for the non-dominant side might indicate a focus on exercises or activities designed to improve the strength and coordination of the weaker side, which is common in rehabilitation or balanced training programs.\n",
    "\n",
    "**4. UID**\n",
    "    \n",
    "- There are three users in the dataset: `u01`, `u04`, and `u05`. \n",
    "- `u01` has the highest count, followed by `u04`, and `u05` has the lowest count.\n",
    "- User `u01` has contributed the most data, which could mean that this user was monitored more frequently or over a longer period.\n",
    "- The distribution suggests that the dataset is not evenly distributed among the users, which might need consideration during analysis to avoid bias.\n",
    "- ***Note:User `u05` is the one with disability***\n",
    "\n",
    "**5. Wrist (Right vs Left)**\n",
    "    \n",
    "- The left wrist `lt` has a higher count compared to the right wrist `rt`.\n",
    "- More data is collected from the left wrist, which could be due to a preference or a focus on monitoring the non-dominant wrist (if most users are right-handed).\n",
    "- This might indicate a targeted effort to gather more data on the less dominant side for comprehensive analysis."
   ]
  },
  {
   "cell_type": "markdown",
   "id": "d9590397-dca8-43c0-9d6f-a56df48da54a",
   "metadata": {},
   "source": [
    "**Lets compare the distribution of data across different categories. \n",
    "This is useful for summarizing the central tendency and dispersion of the accelerometer data for different users.**"
   ]
  },
  {
   "cell_type": "code",
   "execution_count": 51,
   "id": "2ba32dd7-3439-4862-9aa5-2a41e56690a7",
   "metadata": {},
   "outputs": [
    {
     "data": {
      "text/html": [
       "<div>\n",
       "<style scoped>\n",
       "    .dataframe tbody tr th:only-of-type {\n",
       "        vertical-align: middle;\n",
       "    }\n",
       "\n",
       "    .dataframe tbody tr th {\n",
       "        vertical-align: top;\n",
       "    }\n",
       "\n",
       "    .dataframe thead th {\n",
       "        text-align: right;\n",
       "    }\n",
       "</style>\n",
       "<table border=\"1\" class=\"dataframe\">\n",
       "  <thead>\n",
       "    <tr style=\"text-align: right;\">\n",
       "      <th></th>\n",
       "      <th>Hertz</th>\n",
       "      <th>MoveType</th>\n",
       "      <th>Side</th>\n",
       "      <th>UID</th>\n",
       "      <th>Wrist</th>\n",
       "    </tr>\n",
       "  </thead>\n",
       "  <tbody>\n",
       "    <tr>\n",
       "      <th>20</th>\n",
       "      <td>3599.0</td>\n",
       "      <td>NaN</td>\n",
       "      <td>NaN</td>\n",
       "      <td>NaN</td>\n",
       "      <td>NaN</td>\n",
       "    </tr>\n",
       "    <tr>\n",
       "      <th>100</th>\n",
       "      <td>185118.0</td>\n",
       "      <td>NaN</td>\n",
       "      <td>NaN</td>\n",
       "      <td>NaN</td>\n",
       "      <td>NaN</td>\n",
       "    </tr>\n",
       "    <tr>\n",
       "      <th>d</th>\n",
       "      <td>NaN</td>\n",
       "      <td>NaN</td>\n",
       "      <td>87514.0</td>\n",
       "      <td>NaN</td>\n",
       "      <td>NaN</td>\n",
       "    </tr>\n",
       "    <tr>\n",
       "      <th>lt</th>\n",
       "      <td>NaN</td>\n",
       "      <td>NaN</td>\n",
       "      <td>NaN</td>\n",
       "      <td>NaN</td>\n",
       "      <td>101203.0</td>\n",
       "    </tr>\n",
       "    <tr>\n",
       "      <th>nd</th>\n",
       "      <td>NaN</td>\n",
       "      <td>NaN</td>\n",
       "      <td>101203.0</td>\n",
       "      <td>NaN</td>\n",
       "      <td>NaN</td>\n",
       "    </tr>\n",
       "    <tr>\n",
       "      <th>rt</th>\n",
       "      <td>NaN</td>\n",
       "      <td>NaN</td>\n",
       "      <td>NaN</td>\n",
       "      <td>NaN</td>\n",
       "      <td>87514.0</td>\n",
       "    </tr>\n",
       "    <tr>\n",
       "      <th>el-exfl</th>\n",
       "      <td>NaN</td>\n",
       "      <td>71642.0</td>\n",
       "      <td>NaN</td>\n",
       "      <td>NaN</td>\n",
       "      <td>NaN</td>\n",
       "    </tr>\n",
       "    <tr>\n",
       "      <th>sh-exfl</th>\n",
       "      <td>NaN</td>\n",
       "      <td>63308.0</td>\n",
       "      <td>NaN</td>\n",
       "      <td>NaN</td>\n",
       "      <td>NaN</td>\n",
       "    </tr>\n",
       "    <tr>\n",
       "      <th>u01</th>\n",
       "      <td>NaN</td>\n",
       "      <td>NaN</td>\n",
       "      <td>NaN</td>\n",
       "      <td>81200.0</td>\n",
       "      <td>NaN</td>\n",
       "    </tr>\n",
       "    <tr>\n",
       "      <th>u04</th>\n",
       "      <td>NaN</td>\n",
       "      <td>NaN</td>\n",
       "      <td>NaN</td>\n",
       "      <td>53758.0</td>\n",
       "      <td>NaN</td>\n",
       "    </tr>\n",
       "    <tr>\n",
       "      <th>u05</th>\n",
       "      <td>NaN</td>\n",
       "      <td>NaN</td>\n",
       "      <td>NaN</td>\n",
       "      <td>53759.0</td>\n",
       "      <td>NaN</td>\n",
       "    </tr>\n",
       "    <tr>\n",
       "      <th>wr-prsu</th>\n",
       "      <td>NaN</td>\n",
       "      <td>53767.0</td>\n",
       "      <td>NaN</td>\n",
       "      <td>NaN</td>\n",
       "      <td>NaN</td>\n",
       "    </tr>\n",
       "  </tbody>\n",
       "</table>\n",
       "</div>"
      ],
      "text/plain": [
       "            Hertz  MoveType      Side      UID     Wrist\n",
       "20         3599.0       NaN       NaN      NaN       NaN\n",
       "100      185118.0       NaN       NaN      NaN       NaN\n",
       " d            NaN       NaN   87514.0      NaN       NaN\n",
       " lt           NaN       NaN       NaN      NaN  101203.0\n",
       " nd           NaN       NaN  101203.0      NaN       NaN\n",
       " rt           NaN       NaN       NaN      NaN   87514.0\n",
       "el-exfl       NaN   71642.0       NaN      NaN       NaN\n",
       "sh-exfl       NaN   63308.0       NaN      NaN       NaN\n",
       "u01           NaN       NaN       NaN  81200.0       NaN\n",
       "u04           NaN       NaN       NaN  53758.0       NaN\n",
       "u05           NaN       NaN       NaN  53759.0       NaN\n",
       "wr-prsu       NaN   53767.0       NaN      NaN       NaN"
      ]
     },
     "execution_count": 51,
     "metadata": {},
     "output_type": "execute_result"
    }
   ],
   "source": [
    "unique_counts = data_train.nunique()\n",
    "\n",
    "# Filter columns with less than 10 unique values\n",
    "columns_with_few_unique_values = unique_counts[unique_counts < 10].index\n",
    "\n",
    "# Create a dictionary to store the column names and their unique values with counts\n",
    "unique_values_with_counts_dict = {}\n",
    "\n",
    "for column in columns_with_few_unique_values:\n",
    "    unique_values_counts = data_train[column].value_counts()\n",
    "    unique_values_with_counts_dict[column] = unique_values_counts\n",
    "\n",
    "# Convert the dictionary to a DataFrame\n",
    "unique_values_with_counts_df = pd.DataFrame(dict([(k, pd.Series(v)) for k, v in unique_values_with_counts_dict.items()]))\n",
    "\n",
    "# Display the DataFrame\n",
    "unique_values_with_counts_df"
   ]
  },
  {
   "cell_type": "markdown",
   "id": "dfd01f27-f87a-4bd4-8b7f-74d6781ddfb4",
   "metadata": {},
   "source": [
    "#### Remove Leading/Trailing Spaces and Map Values in `Side` and `Wrist`"
   ]
  },
  {
   "cell_type": "code",
   "execution_count": 53,
   "id": "fa4688ca-a201-4c2d-9d80-ac68f409cd0c",
   "metadata": {},
   "outputs": [],
   "source": [
    "# Remove leading/trailing  in Side\n",
    "data_train['Side'] = data_train['Side'].str.strip()\n",
    "\n",
    "# Remove leading/trailing spaces in Wrist\n",
    "data_train['Wrist'] = data_train['Wrist'].str.strip()"
   ]
  },
  {
   "cell_type": "code",
   "execution_count": 54,
   "id": "b01a038d-aa7c-4524-852c-a46cbdf20309",
   "metadata": {},
   "outputs": [
    {
     "name": "stdout",
     "output_type": "stream",
     "text": [
      "['d' 'nd']\n",
      "['rt' 'lt']\n"
     ]
    }
   ],
   "source": [
    "print(data_train['Side'].unique())\n",
    "print(data_train['Wrist'].unique())"
   ]
  },
  {
   "cell_type": "markdown",
   "id": "54055736-d752-49ee-b179-c21cf640372d",
   "metadata": {},
   "source": [
    "#### Convert `Side` to numeric (dominant = 0, non-dominant = 1)"
   ]
  },
  {
   "cell_type": "code",
   "execution_count": 56,
   "id": "af4c3661-db80-41f3-9d94-cfc87eee3f07",
   "metadata": {},
   "outputs": [
    {
     "name": "stdout",
     "output_type": "stream",
     "text": [
      "[0 1]\n"
     ]
    }
   ],
   "source": [
    "# Convert Side to numeric (dominant = 0, non-dominant = 1)\n",
    "side_num = {'d': 0, 'nd': 1}\n",
    "\n",
    "data_train['Side'] = data_train['Side'].map(side_num)\n",
    "print(data_train['Side'].unique())"
   ]
  },
  {
   "cell_type": "markdown",
   "id": "841157df-4e60-4bc8-b1ca-55d2daff4147",
   "metadata": {},
   "source": [
    "#### Convert `Wrist` to numeric (rt = 0, lt = 1)"
   ]
  },
  {
   "cell_type": "code",
   "execution_count": 58,
   "id": "2ab94e96-b1d5-4c8b-a0af-263221cc245a",
   "metadata": {},
   "outputs": [
    {
     "name": "stdout",
     "output_type": "stream",
     "text": [
      "[0 1]\n"
     ]
    }
   ],
   "source": [
    "# Convert Wrist to numeric (rt = 0, lt = 1)\n",
    "wrist_num = {'rt': 0, 'lt': 1}\n",
    "\n",
    "data_train['Wrist'] = data_train['Wrist'].map(wrist_num)\n",
    "print(data_train['Wrist'].unique())"
   ]
  },
  {
   "cell_type": "code",
   "execution_count": 59,
   "id": "b50e37a7-a5ed-4d1e-9c05-dd16a8d8c36d",
   "metadata": {},
   "outputs": [
    {
     "name": "stdout",
     "output_type": "stream",
     "text": [
      "<class 'pandas.core.frame.DataFrame'>\n",
      "RangeIndex: 188717 entries, 0 to 188716\n",
      "Data columns (total 26 columns):\n",
      " #   Column       Non-Null Count   Dtype   \n",
      "---  ------       --------------   -----   \n",
      " 0   AccelroX     188717 non-null  float64 \n",
      " 1   AceelroY     188717 non-null  float64 \n",
      " 2   AceelroZ     188717 non-null  float64 \n",
      " 3   DMGrvX       188717 non-null  float64 \n",
      " 4   DMGrvY       188717 non-null  float64 \n",
      " 5   DMGrvZ       188717 non-null  float64 \n",
      " 6   DMPitch      188717 non-null  float64 \n",
      " 7   DMQuatW      188717 non-null  float64 \n",
      " 8   DMQuatX      188717 non-null  float64 \n",
      " 9   DMQuatY      188717 non-null  float64 \n",
      " 10  DMQuatZ      188717 non-null  float64 \n",
      " 11  DMRoll       188717 non-null  float64 \n",
      " 12  DMRotX       188717 non-null  float64 \n",
      " 13  DMRotY       188717 non-null  float64 \n",
      " 14  DMRotZ       188717 non-null  float64 \n",
      " 15  DMUAccelX    188717 non-null  float64 \n",
      " 16  DMUAccelY    188717 non-null  float64 \n",
      " 17  DMUAccelZ    188717 non-null  float64 \n",
      " 18  DMYaw        188717 non-null  float64 \n",
      " 19  Hertz        188717 non-null  category\n",
      " 20  LoggingTime  188717 non-null  object  \n",
      " 21  MoveType     188717 non-null  category\n",
      " 22  Side         188717 non-null  int64   \n",
      " 23  TimeStamp    188717 non-null  float64 \n",
      " 24  UID          188717 non-null  category\n",
      " 25  Wrist        188717 non-null  int64   \n",
      "dtypes: category(3), float64(20), int64(2), object(1)\n",
      "memory usage: 33.7+ MB\n"
     ]
    }
   ],
   "source": [
    "data_train.info()"
   ]
  },
  {
   "cell_type": "markdown",
   "id": "a7c3bea2-85b2-4bc3-82a3-da347ffbb0d9",
   "metadata": {
    "tags": []
   },
   "source": [
    "## <b>Distribution of Numerical Columns"
   ]
  },
  {
   "cell_type": "markdown",
   "id": "77b1e170-bb89-4a81-b6d1-e378cd8fd32e",
   "metadata": {
    "tags": []
   },
   "source": [
    "### **Summary Statistics**\n",
    "\n",
    "Generate summary statistics for numerical columns to understand their distributions."
   ]
  },
  {
   "cell_type": "code",
   "execution_count": 62,
   "id": "d94aede3-3438-4c2e-9e1e-799866d840fd",
   "metadata": {},
   "outputs": [
    {
     "data": {
      "text/html": [
       "<div>\n",
       "<style scoped>\n",
       "    .dataframe tbody tr th:only-of-type {\n",
       "        vertical-align: middle;\n",
       "    }\n",
       "\n",
       "    .dataframe tbody tr th {\n",
       "        vertical-align: top;\n",
       "    }\n",
       "\n",
       "    .dataframe thead th {\n",
       "        text-align: right;\n",
       "    }\n",
       "</style>\n",
       "<table border=\"1\" class=\"dataframe\">\n",
       "  <thead>\n",
       "    <tr style=\"text-align: right;\">\n",
       "      <th></th>\n",
       "      <th>count</th>\n",
       "      <th>mean</th>\n",
       "      <th>std</th>\n",
       "      <th>min</th>\n",
       "      <th>25%</th>\n",
       "      <th>50%</th>\n",
       "      <th>75%</th>\n",
       "      <th>max</th>\n",
       "    </tr>\n",
       "  </thead>\n",
       "  <tbody>\n",
       "    <tr>\n",
       "      <th>AccelroX</th>\n",
       "      <td>188717.0</td>\n",
       "      <td>0.094189</td>\n",
       "      <td>0.574687</td>\n",
       "      <td>-0.948120</td>\n",
       "      <td>-0.232788</td>\n",
       "      <td>-0.136963</td>\n",
       "      <td>0.752609</td>\n",
       "      <td>1.419174</td>\n",
       "    </tr>\n",
       "    <tr>\n",
       "      <th>AceelroY</th>\n",
       "      <td>188717.0</td>\n",
       "      <td>0.109487</td>\n",
       "      <td>0.659717</td>\n",
       "      <td>-1.283493</td>\n",
       "      <td>-0.461670</td>\n",
       "      <td>0.084763</td>\n",
       "      <td>0.632309</td>\n",
       "      <td>1.323349</td>\n",
       "    </tr>\n",
       "    <tr>\n",
       "      <th>AceelroZ</th>\n",
       "      <td>188717.0</td>\n",
       "      <td>-0.000400</td>\n",
       "      <td>0.519614</td>\n",
       "      <td>-1.073853</td>\n",
       "      <td>-0.355316</td>\n",
       "      <td>-0.097763</td>\n",
       "      <td>0.469849</td>\n",
       "      <td>1.745163</td>\n",
       "    </tr>\n",
       "    <tr>\n",
       "      <th>DMGrvX</th>\n",
       "      <td>188717.0</td>\n",
       "      <td>0.069955</td>\n",
       "      <td>0.591590</td>\n",
       "      <td>-1.000000</td>\n",
       "      <td>-0.307042</td>\n",
       "      <td>-0.092197</td>\n",
       "      <td>0.681134</td>\n",
       "      <td>0.999999</td>\n",
       "    </tr>\n",
       "    <tr>\n",
       "      <th>DMGrvY</th>\n",
       "      <td>188717.0</td>\n",
       "      <td>0.025095</td>\n",
       "      <td>0.614122</td>\n",
       "      <td>-0.999992</td>\n",
       "      <td>-0.530236</td>\n",
       "      <td>0.095848</td>\n",
       "      <td>0.530809</td>\n",
       "      <td>0.999985</td>\n",
       "    </tr>\n",
       "    <tr>\n",
       "      <th>DMGrvZ</th>\n",
       "      <td>188717.0</td>\n",
       "      <td>0.042633</td>\n",
       "      <td>0.515306</td>\n",
       "      <td>-0.999991</td>\n",
       "      <td>-0.302634</td>\n",
       "      <td>0.039766</td>\n",
       "      <td>0.450294</td>\n",
       "      <td>0.999636</td>\n",
       "    </tr>\n",
       "    <tr>\n",
       "      <th>DMPitch</th>\n",
       "      <td>188717.0</td>\n",
       "      <td>-0.026464</td>\n",
       "      <td>0.742402</td>\n",
       "      <td>-1.565349</td>\n",
       "      <td>-0.559555</td>\n",
       "      <td>-0.095996</td>\n",
       "      <td>0.558879</td>\n",
       "      <td>1.566875</td>\n",
       "    </tr>\n",
       "    <tr>\n",
       "      <th>DMQuatW</th>\n",
       "      <td>188717.0</td>\n",
       "      <td>0.375632</td>\n",
       "      <td>0.475200</td>\n",
       "      <td>-0.987221</td>\n",
       "      <td>0.176340</td>\n",
       "      <td>0.504910</td>\n",
       "      <td>0.736997</td>\n",
       "      <td>0.999965</td>\n",
       "    </tr>\n",
       "    <tr>\n",
       "      <th>DMQuatX</th>\n",
       "      <td>188717.0</td>\n",
       "      <td>-0.307141</td>\n",
       "      <td>0.575794</td>\n",
       "      <td>-0.994716</td>\n",
       "      <td>-0.799190</td>\n",
       "      <td>-0.521203</td>\n",
       "      <td>0.204767</td>\n",
       "      <td>0.986582</td>\n",
       "    </tr>\n",
       "    <tr>\n",
       "      <th>DMQuatY</th>\n",
       "      <td>188717.0</td>\n",
       "      <td>0.022689</td>\n",
       "      <td>0.308106</td>\n",
       "      <td>-0.977826</td>\n",
       "      <td>-0.120688</td>\n",
       "      <td>-0.015491</td>\n",
       "      <td>0.147207</td>\n",
       "      <td>0.895638</td>\n",
       "    </tr>\n",
       "    <tr>\n",
       "      <th>DMQuatZ</th>\n",
       "      <td>188717.0</td>\n",
       "      <td>-0.018278</td>\n",
       "      <td>0.333822</td>\n",
       "      <td>-0.895497</td>\n",
       "      <td>-0.232345</td>\n",
       "      <td>-0.038283</td>\n",
       "      <td>0.191816</td>\n",
       "      <td>0.866187</td>\n",
       "    </tr>\n",
       "    <tr>\n",
       "      <th>DMRoll</th>\n",
       "      <td>188717.0</td>\n",
       "      <td>-0.132498</td>\n",
       "      <td>1.802102</td>\n",
       "      <td>-3.141580</td>\n",
       "      <td>-1.736313</td>\n",
       "      <td>-0.183889</td>\n",
       "      <td>1.587262</td>\n",
       "      <td>3.141495</td>\n",
       "    </tr>\n",
       "    <tr>\n",
       "      <th>DMRotX</th>\n",
       "      <td>188717.0</td>\n",
       "      <td>-0.004836</td>\n",
       "      <td>2.264164</td>\n",
       "      <td>-21.818560</td>\n",
       "      <td>-0.645430</td>\n",
       "      <td>-0.020161</td>\n",
       "      <td>0.551760</td>\n",
       "      <td>18.498388</td>\n",
       "    </tr>\n",
       "    <tr>\n",
       "      <th>DMRotY</th>\n",
       "      <td>188717.0</td>\n",
       "      <td>-0.000765</td>\n",
       "      <td>1.720742</td>\n",
       "      <td>-7.965153</td>\n",
       "      <td>-0.507717</td>\n",
       "      <td>0.010177</td>\n",
       "      <td>0.533286</td>\n",
       "      <td>9.024065</td>\n",
       "    </tr>\n",
       "    <tr>\n",
       "      <th>DMRotZ</th>\n",
       "      <td>188717.0</td>\n",
       "      <td>0.022144</td>\n",
       "      <td>1.888252</td>\n",
       "      <td>-8.706444</td>\n",
       "      <td>-0.770809</td>\n",
       "      <td>0.009127</td>\n",
       "      <td>0.911194</td>\n",
       "      <td>8.635221</td>\n",
       "    </tr>\n",
       "    <tr>\n",
       "      <th>DMUAccelX</th>\n",
       "      <td>188717.0</td>\n",
       "      <td>0.106296</td>\n",
       "      <td>0.253839</td>\n",
       "      <td>-1.452583</td>\n",
       "      <td>-0.017516</td>\n",
       "      <td>0.029564</td>\n",
       "      <td>0.214389</td>\n",
       "      <td>1.884800</td>\n",
       "    </tr>\n",
       "    <tr>\n",
       "      <th>DMUAccelY</th>\n",
       "      <td>188717.0</td>\n",
       "      <td>0.012229</td>\n",
       "      <td>0.414379</td>\n",
       "      <td>-2.796464</td>\n",
       "      <td>-0.127793</td>\n",
       "      <td>0.007579</td>\n",
       "      <td>0.160282</td>\n",
       "      <td>3.275109</td>\n",
       "    </tr>\n",
       "    <tr>\n",
       "      <th>DMUAccelZ</th>\n",
       "      <td>188717.0</td>\n",
       "      <td>0.011563</td>\n",
       "      <td>0.243599</td>\n",
       "      <td>-2.582135</td>\n",
       "      <td>-0.069557</td>\n",
       "      <td>0.019419</td>\n",
       "      <td>0.125960</td>\n",
       "      <td>1.751222</td>\n",
       "    </tr>\n",
       "    <tr>\n",
       "      <th>DMYaw</th>\n",
       "      <td>188717.0</td>\n",
       "      <td>-0.047183</td>\n",
       "      <td>1.967582</td>\n",
       "      <td>-3.141563</td>\n",
       "      <td>-1.861285</td>\n",
       "      <td>-0.019406</td>\n",
       "      <td>1.621500</td>\n",
       "      <td>3.141570</td>\n",
       "    </tr>\n",
       "    <tr>\n",
       "      <th>Side</th>\n",
       "      <td>188717.0</td>\n",
       "      <td>0.536269</td>\n",
       "      <td>0.498684</td>\n",
       "      <td>0.000000</td>\n",
       "      <td>0.000000</td>\n",
       "      <td>1.000000</td>\n",
       "      <td>1.000000</td>\n",
       "      <td>1.000000</td>\n",
       "    </tr>\n",
       "    <tr>\n",
       "      <th>TimeStamp</th>\n",
       "      <td>188717.0</td>\n",
       "      <td>33778.517625</td>\n",
       "      <td>12180.869911</td>\n",
       "      <td>949.575735</td>\n",
       "      <td>28911.018941</td>\n",
       "      <td>32838.084469</td>\n",
       "      <td>43731.756275</td>\n",
       "      <td>46164.386206</td>\n",
       "    </tr>\n",
       "    <tr>\n",
       "      <th>Wrist</th>\n",
       "      <td>188717.0</td>\n",
       "      <td>0.536269</td>\n",
       "      <td>0.498684</td>\n",
       "      <td>0.000000</td>\n",
       "      <td>0.000000</td>\n",
       "      <td>1.000000</td>\n",
       "      <td>1.000000</td>\n",
       "      <td>1.000000</td>\n",
       "    </tr>\n",
       "  </tbody>\n",
       "</table>\n",
       "</div>"
      ],
      "text/plain": [
       "              count          mean           std         min           25%  \\\n",
       "AccelroX   188717.0      0.094189      0.574687   -0.948120     -0.232788   \n",
       "AceelroY   188717.0      0.109487      0.659717   -1.283493     -0.461670   \n",
       "AceelroZ   188717.0     -0.000400      0.519614   -1.073853     -0.355316   \n",
       "DMGrvX     188717.0      0.069955      0.591590   -1.000000     -0.307042   \n",
       "DMGrvY     188717.0      0.025095      0.614122   -0.999992     -0.530236   \n",
       "DMGrvZ     188717.0      0.042633      0.515306   -0.999991     -0.302634   \n",
       "DMPitch    188717.0     -0.026464      0.742402   -1.565349     -0.559555   \n",
       "DMQuatW    188717.0      0.375632      0.475200   -0.987221      0.176340   \n",
       "DMQuatX    188717.0     -0.307141      0.575794   -0.994716     -0.799190   \n",
       "DMQuatY    188717.0      0.022689      0.308106   -0.977826     -0.120688   \n",
       "DMQuatZ    188717.0     -0.018278      0.333822   -0.895497     -0.232345   \n",
       "DMRoll     188717.0     -0.132498      1.802102   -3.141580     -1.736313   \n",
       "DMRotX     188717.0     -0.004836      2.264164  -21.818560     -0.645430   \n",
       "DMRotY     188717.0     -0.000765      1.720742   -7.965153     -0.507717   \n",
       "DMRotZ     188717.0      0.022144      1.888252   -8.706444     -0.770809   \n",
       "DMUAccelX  188717.0      0.106296      0.253839   -1.452583     -0.017516   \n",
       "DMUAccelY  188717.0      0.012229      0.414379   -2.796464     -0.127793   \n",
       "DMUAccelZ  188717.0      0.011563      0.243599   -2.582135     -0.069557   \n",
       "DMYaw      188717.0     -0.047183      1.967582   -3.141563     -1.861285   \n",
       "Side       188717.0      0.536269      0.498684    0.000000      0.000000   \n",
       "TimeStamp  188717.0  33778.517625  12180.869911  949.575735  28911.018941   \n",
       "Wrist      188717.0      0.536269      0.498684    0.000000      0.000000   \n",
       "\n",
       "                    50%           75%           max  \n",
       "AccelroX      -0.136963      0.752609      1.419174  \n",
       "AceelroY       0.084763      0.632309      1.323349  \n",
       "AceelroZ      -0.097763      0.469849      1.745163  \n",
       "DMGrvX        -0.092197      0.681134      0.999999  \n",
       "DMGrvY         0.095848      0.530809      0.999985  \n",
       "DMGrvZ         0.039766      0.450294      0.999636  \n",
       "DMPitch       -0.095996      0.558879      1.566875  \n",
       "DMQuatW        0.504910      0.736997      0.999965  \n",
       "DMQuatX       -0.521203      0.204767      0.986582  \n",
       "DMQuatY       -0.015491      0.147207      0.895638  \n",
       "DMQuatZ       -0.038283      0.191816      0.866187  \n",
       "DMRoll        -0.183889      1.587262      3.141495  \n",
       "DMRotX        -0.020161      0.551760     18.498388  \n",
       "DMRotY         0.010177      0.533286      9.024065  \n",
       "DMRotZ         0.009127      0.911194      8.635221  \n",
       "DMUAccelX      0.029564      0.214389      1.884800  \n",
       "DMUAccelY      0.007579      0.160282      3.275109  \n",
       "DMUAccelZ      0.019419      0.125960      1.751222  \n",
       "DMYaw         -0.019406      1.621500      3.141570  \n",
       "Side           1.000000      1.000000      1.000000  \n",
       "TimeStamp  32838.084469  43731.756275  46164.386206  \n",
       "Wrist          1.000000      1.000000      1.000000  "
      ]
     },
     "execution_count": 62,
     "metadata": {},
     "output_type": "execute_result"
    }
   ],
   "source": [
    "# Summary statistics for numerical column\n",
    "data_train.describe().T"
   ]
  },
  {
   "cell_type": "markdown",
   "id": "66173a58-8392-4f28-a703-ee21b32a6cdd",
   "metadata": {},
   "source": [
    "### <b>Noise Handling</b>"
   ]
  },
  {
   "cell_type": "markdown",
   "id": "6f83c66f-3874-4e7f-a2c5-5ca31c6893fa",
   "metadata": {},
   "source": [
    "Before ploting the box plots, we need to:\n",
    "- Convert TimeStamp to datetime: Ensure the TimeStamp column is in the correct datetime format.\n",
    "- Set TimeStamp as index: Set the TimeStamp column as the index of the DataFrame, which is necessary for resampling.\n",
    "- Normalize numeric columns: If not already done, normalize the numeric columns to ensure consistent analysis.\n",
    "- Resample the data: Resample the data to get the mean values for every second.\n",
    "- Forward fill categorical columns: Fill the missing values in categorical columns using the forward fill method to ensure continuity."
   ]
  },
  {
   "cell_type": "code",
   "execution_count": 65,
   "id": "17630e6a-37e9-4a75-8dce-73f433af6caf",
   "metadata": {},
   "outputs": [
    {
     "name": "stdout",
     "output_type": "stream",
     "text": [
      "LoggingTime data type: datetime64[ns]\n"
     ]
    }
   ],
   "source": [
    "# Convert LoggingTime to datetime\n",
    "data_train['LoggingTime'] = pd.to_datetime(data_train['LoggingTime'])\n",
    "\n",
    "# Check the data type of the LoggingTime column to ensure conversion\n",
    "print('LoggingTime data type:', data_train['LoggingTime'].dtype)"
   ]
  },
  {
   "cell_type": "code",
   "execution_count": 66,
   "id": "2d466e2a-f560-4bc8-bcfc-bf6191f92a73",
   "metadata": {
    "tags": []
   },
   "outputs": [
    {
     "name": "stdout",
     "output_type": "stream",
     "text": [
      "              LoggingTime\n",
      "26311 2020-04-13 18:04:18\n",
      "26343 2020-04-13 18:04:18\n",
      "26344 2020-04-13 18:04:18\n",
      "26345 2020-04-13 18:04:18\n",
      "26346 2020-04-13 18:04:18\n"
     ]
    }
   ],
   "source": [
    "# Sort the data by LoggingTime\n",
    "data_train = data_train.sort_values(by='LoggingTime')\n",
    "\n",
    "# Verify the conversion and the sorting\n",
    "print(data_train[['LoggingTime']].head())"
   ]
  },
  {
   "cell_type": "code",
   "execution_count": 67,
   "id": "ee28d40a-7a47-453c-99da-dba8b56f77e5",
   "metadata": {},
   "outputs": [
    {
     "name": "stdout",
     "output_type": "stream",
     "text": [
      "                       TimeStamp         LoggingTime\n",
      "26311 2020-04-14 05:34:23.771169 2020-04-13 18:04:18\n",
      "26343 2020-04-14 05:34:24.093271 2020-04-13 18:04:18\n",
      "26344 2020-04-14 05:34:24.103336 2020-04-13 18:04:18\n",
      "26345 2020-04-14 05:34:24.113402 2020-04-13 18:04:18\n",
      "26346 2020-04-14 05:34:24.123468 2020-04-13 18:04:18\n"
     ]
    }
   ],
   "source": [
    "# Assuming the first entry's LoggingTime is the reference start time\n",
    "reference_time = data_train['LoggingTime'].iloc[0]\n",
    "\n",
    "# Convert the fractional seconds to datetime\n",
    "data_train['TimeStamp'] = data_train['TimeStamp'].apply(lambda x: reference_time + timedelta(seconds=x))\n",
    "\n",
    "# Verify the conversion\n",
    "print(data_train[['TimeStamp', 'LoggingTime']].head())"
   ]
  },
  {
   "cell_type": "markdown",
   "id": "e375f064-687d-4259-9b52-88d79465aaa9",
   "metadata": {},
   "source": [
    "## <b> Data provided by each user</b>"
   ]
  },
  {
   "cell_type": "code",
   "execution_count": 117,
   "id": "d0d6c9b8-d1a8-46b9-8650-a878a77d98c5",
   "metadata": {},
   "outputs": [
    {
     "data": {
      "image/png": "[encoded data removed]",
      "text/plain": [
       "<Figure size 1000x500 with 1 Axes>"
      ]
     },
     "metadata": {},
     "output_type": "display_data"
    }
   ],
   "source": [
    "plt.figure(figsize=(10,5))\n",
    "plt.title('Data provided by each user', fontsize=20)\n",
    "sns.countplot(x='UID',hue='MoveType', data = data_train)\n",
    "plt.show()"
   ]
  },
  {
   "cell_type": "markdown",
   "id": "a46f4bee-7be6-4189-b618-ec4ddce519ba",
   "metadata": {},
   "source": [
    "User `u01` have more data recorded compared to the other users"
   ]
  },
  {
   "cell_type": "markdown",
   "id": "908528ed-b3eb-48e3-82e3-4c9311695387",
   "metadata": {},
   "source": [
    "## <b>No of Datapoints per Activity</b>"
   ]
  },
  {
   "cell_type": "code",
   "execution_count": 120,
   "id": "47cb5711-51d3-482b-a002-244258441c98",
   "metadata": {},
   "outputs": [
    {
     "data": {
      "image/png": "[encoded data removed]",
      "text/plain": [
       "<Figure size 1000x500 with 1 Axes>"
      ]
     },
     "metadata": {},
     "output_type": "display_data"
    }
   ],
   "source": [
    "plt.figure(figsize=(10,5))\n",
    "plt.title('Number of Data Points by MoveType', fontsize=20)\n",
    "sns.countplot(x='MoveType', data=data_train)\n",
    "plt.xlabel('MoveType', fontsize=15)\n",
    "plt.ylabel('Count', fontsize=15)\n",
    "plt.show()"
   ]
  },
  {
   "cell_type": "markdown",
   "id": "d294430e-ea93-48ab-90c3-dc063f3b08cc",
   "metadata": {},
   "source": [
    "We can see that we have more data recorded with Elbow and the least movement recorded are from the wirst"
   ]
  },
  {
   "cell_type": "markdown",
   "id": "85e7eb0e-c640-4280-a735-57181951e01a",
   "metadata": {},
   "source": [
    "### **Rotation (X, Y, Z)** ###"
   ]
  },
  {
   "cell_type": "code",
   "execution_count": 123,
   "id": "52d6993b-8b0b-40eb-9e3f-902a9dfb4b4b",
   "metadata": {},
   "outputs": [
    {
     "ename": "NameError",
     "evalue": "name 'resampled_data' is not defined",
     "output_type": "error",
     "traceback": [
      "\u001b[1;31m---------------------------------------------------------------------------\u001b[0m",
      "\u001b[1;31mNameError\u001b[0m                                 Traceback (most recent call last)",
      "Cell \u001b[1;32mIn[123], line 4\u001b[0m\n\u001b[0;32m      1\u001b[0m \u001b[38;5;66;03m# Plotting box plots for accelerometer data over the selected time window for all users\u001b[39;00m\n\u001b[0;32m      2\u001b[0m fig, axes \u001b[38;5;241m=\u001b[39m plt\u001b[38;5;241m.\u001b[39msubplots(nrows\u001b[38;5;241m=\u001b[39m\u001b[38;5;241m3\u001b[39m, ncols\u001b[38;5;241m=\u001b[39m\u001b[38;5;241m1\u001b[39m, figsize\u001b[38;5;241m=\u001b[39m(\u001b[38;5;241m6\u001b[39m, \u001b[38;5;241m10\u001b[39m))\n\u001b[1;32m----> 4\u001b[0m sns\u001b[38;5;241m.\u001b[39mboxplot(x\u001b[38;5;241m=\u001b[39m\u001b[38;5;124m'\u001b[39m\u001b[38;5;124mUID\u001b[39m\u001b[38;5;124m'\u001b[39m, y\u001b[38;5;241m=\u001b[39m\u001b[38;5;124m'\u001b[39m\u001b[38;5;124mDMRotX\u001b[39m\u001b[38;5;124m'\u001b[39m, data\u001b[38;5;241m=\u001b[39mresampled_data, ax\u001b[38;5;241m=\u001b[39maxes[\u001b[38;5;241m0\u001b[39m])\n\u001b[0;32m      5\u001b[0m axes[\u001b[38;5;241m0\u001b[39m]\u001b[38;5;241m.\u001b[39mset_title(\u001b[38;5;124m'\u001b[39m\u001b[38;5;124mBox Plot of DMRotX for All Users\u001b[39m\u001b[38;5;124m'\u001b[39m)\n\u001b[0;32m      6\u001b[0m axes[\u001b[38;5;241m0\u001b[39m]\u001b[38;5;241m.\u001b[39mset_xlabel(\u001b[38;5;124m'\u001b[39m\u001b[38;5;124mUser ID\u001b[39m\u001b[38;5;124m'\u001b[39m)\n",
      "\u001b[1;31mNameError\u001b[0m: name 'resampled_data' is not defined"
     ]
    },
    {
     "data": {
      "image/png": "[encoded data removed]",
      "text/plain": [
       "<Figure size 600x1000 with 3 Axes>"
      ]
     },
     "metadata": {},
     "output_type": "display_data"
    }
   ],
   "source": [
    "# Plotting box plots for accelerometer data over the selected time window for all users\n",
    "fig, axes = plt.subplots(nrows=3, ncols=1, figsize=(6, 10))\n",
    "\n",
    "sns.boxplot(x='UID', y='DMRotX', data=resampled_data, ax=axes[0])\n",
    "axes[0].set_title('Box Plot of DMRotX for All Users')\n",
    "axes[0].set_xlabel('User ID')\n",
    "axes[0].set_ylabel('Rotation (rad/s)')\n",
    "\n",
    "sns.boxplot(x='UID', y='DMRotX', data=resampled_data, ax=axes[1])\n",
    "axes[1].set_title('Box Plot of DMRotY for All Users')\n",
    "axes[1].set_xlabel('User ID')\n",
    "axes[1].set_ylabel('Rotation (rad/s)')\n",
    "\n",
    "sns.boxplot(x='UID', y='AceelroZ', data=resampled_data, ax=axes[2])\n",
    "axes[2].set_title('Box Plot of DMRotZ for All Users')\n",
    "axes[2].set_xlabel('User ID')\n",
    "axes[2].set_ylabel('Rotation (rad/s)')\n",
    "\n",
    "plt.tight_layout()\n",
    "plt.show()"
   ]
  },
  {
   "cell_type": "markdown",
   "id": "a6bcc97c-594e-4afa-9514-7ec95c596893",
   "metadata": {},
   "source": [
    "### **Rotation (Roll, Pitch, and Yaw)** ###"
   ]
  },
  {
   "cell_type": "code",
   "execution_count": null,
   "id": "0f36861e-5188-4f32-937b-18c3f9bed5c7",
   "metadata": {},
   "outputs": [],
   "source": [
    "fig, axes = plt.subplots(nrows=3, ncols=1, figsize=(6, 10))\n",
    "\n",
    "sns.boxplot(x='UID', y='DMPitch', data=resampled_data, ax=axes[0])\n",
    "axes[0].set_title('Box Plot of DMPitch for All Users')\n",
    "axes[0].set_xlabel('User ID')\n",
    "axes[0].set_ylabel('Pitch (rad/s)')\n",
    "\n",
    "sns.boxplot(x='UID', y='DMRoll', data=resampled_data, ax=axes[1])\n",
    "axes[1].set_title('Box Plot of DMRoll for All Users')\n",
    "axes[1].set_xlabel('User ID')\n",
    "axes[1].set_ylabel('Roll (rad/s)')\n",
    "\n",
    "sns.boxplot(x='UID', y='DMYaw', data=resampled_data, ax=axes[2])\n",
    "axes[2].set_title('Box Plot of DIMYaw for All Users')\n",
    "axes[2].set_xlabel('User ID')\n",
    "axes[2].set_ylabel('Yaw (rad/s)')\n",
    "\n",
    "plt.tight_layout()\n",
    "plt.show()"
   ]
  },
  {
   "cell_type": "markdown",
   "id": "d9232a6f-72d2-42ad-81d3-b68dd99742ad",
   "metadata": {
    "tags": []
   },
   "source": [
    "## <b>Noise Handling</b>"
   ]
  },
  {
   "cell_type": "markdown",
   "id": "22303f21-fa3f-486d-bd8c-a98063f4123c",
   "metadata": {},
   "source": [
    "### **3. Encode categorical variables**"
   ]
  },
  {
   "cell_type": "markdown",
   "id": "c56b998a-3598-4daf-908c-5a386c2b6efa",
   "metadata": {},
   "source": [
    "#### Encode 'MoveType' column"
   ]
  },
  {
   "cell_type": "code",
   "execution_count": null,
   "id": "9975ff2c-74c1-4e94-ae0d-ae6dfcad2134",
   "metadata": {},
   "outputs": [],
   "source": [
    "from sklearn.preprocessing import LabelEncoder\n",
    "\n",
    "# Check unique values in the 'MoveType' column\n",
    "print(\"Unique values in MoveType column before encoding:\", data_train['MoveType'].unique())\n",
    "\n",
    "# Initialize the LabelEncoder\n",
    "label_encoder = LabelEncoder()\n",
    "\n",
    "# Fit and transform the 'MoveType' column\n",
    "data_train['MoveType_encoded'] = label_encoder.fit_transform(data_train['MoveType'])\n",
    "\n",
    "# Check the mapping of original values to encoded values\n",
    "print(\"Mapping of original values to encoded values:\")\n",
    "for original, encoded in zip(label_encoder.classes_, range(len(label_encoder.classes_))):\n",
    "    print(f\"{original}: {encoded}\")"
   ]
  },
  {
   "cell_type": "markdown",
   "id": "411e37c0-3311-4427-a19e-c7e583567e57",
   "metadata": {},
   "source": [
    "#### Create a new numeric column `Target` based on the UID\n",
    "* This column will be used to train the ML model.\n",
    "* It will have `0` for patients without hemiparesis and `1` for patients with_hemiparesis."
   ]
  },
  {
   "cell_type": "code",
   "execution_count": null,
   "id": "18c68bb8-6f8a-4001-a3f0-a0c4776f311a",
   "metadata": {},
   "outputs": [],
   "source": [
    "# Define the mapping\n",
    "uid_num = {'u01': 0, 'u04': 0, 'u05': 1}\n",
    "\n",
    "# Apply the mapping to create a new column\n",
    "data_train['Target'] = data_train['UID'].map(uid_num)\n",
    "\n",
    "# Verify the changes\n",
    "print(data_train['Target'].unique())"
   ]
  },
  {
   "cell_type": "code",
   "execution_count": null,
   "id": "6c1e4054-ff24-49c6-a6c8-44097b077b38",
   "metadata": {},
   "outputs": [],
   "source": [
    "#### Plot distribution of target variable\n",
    "sns.countplot(x='Target', data=data_train)\n",
    "plt.title('Distribution of Target Variable')\n",
    "plt.xlabel('Target')\n",
    "plt.ylabel('Count')\n",
    "plt.show()"
   ]
  },
  {
   "cell_type": "markdown",
   "id": "ad26af96-701e-49fb-8e38-a3597e541ada",
   "metadata": {},
   "source": [
    "***The data are imbalanced.***"
   ]
  },
  {
   "cell_type": "markdown",
   "id": "19fed344-5d60-4bf1-8349-da9c96f2d1d5",
   "metadata": {},
   "source": [
    "#### Drop the columns after Encoding `MoveType`, `UID`, `Hertz` and `LoggingTime`"
   ]
  },
  {
   "cell_type": "code",
   "execution_count": null,
   "id": "e79f1b36-7c17-498b-b5d1-8e399f2b9079",
   "metadata": {},
   "outputs": [],
   "source": [
    "#### Drop the column 'UID'\n",
    "data_train.drop('UID', axis=1, inplace=True)"
   ]
  },
  {
   "cell_type": "code",
   "execution_count": null,
   "id": "21e3fb55-9281-4c9d-aa23-f3a72baa9fe6",
   "metadata": {},
   "outputs": [],
   "source": [
    "#### Drop the column 'MoveType'\n",
    "data_train.drop('MoveType', axis=1, inplace=True)"
   ]
  },
  {
   "cell_type": "code",
   "execution_count": null,
   "id": "b4c7b294-816b-4c58-96c2-a5c8f6fc30c3",
   "metadata": {},
   "outputs": [],
   "source": [
    "#### Drop the column 'LoggingTime'\n",
    "data_train.drop('LoggingTime', axis=1, inplace=True)"
   ]
  },
  {
   "cell_type": "code",
   "execution_count": null,
   "id": "5716ffc9-964b-47bf-8fbe-6b6f8e52950f",
   "metadata": {},
   "outputs": [],
   "source": [
    "#### Drop the column 'Hertz'\n",
    "data_train.drop('Hertz', axis=1, inplace=True)"
   ]
  },
  {
   "cell_type": "code",
   "execution_count": null,
   "id": "cfbba6d8-8bcd-40ff-9d67-6a1ead1e1e4d",
   "metadata": {},
   "outputs": [],
   "source": [
    "data_train.head()"
   ]
  },
  {
   "cell_type": "markdown",
   "id": "c60a5514-7c15-4301-a573-348666defb97",
   "metadata": {
    "tags": []
   },
   "source": [
    "### **4. Normalize/Standardize the Data**"
   ]
  },
  {
   "cell_type": "code",
   "execution_count": null,
   "id": "e647f5a5-f11a-4394-8dee-2a4c7ee66273",
   "metadata": {},
   "outputs": [],
   "source": [
    "from sklearn.preprocessing import StandardScaler\n",
    "\n",
    "# Select the numeric columns for normalization\n",
    "numeric_columns = ['AccelroX', 'AceelroY', 'AceelroZ', 'DMGrvX', 'DMGrvY', 'DMGrvZ', 'DMPitch', 'DMQuatW', 'DMQuatX', \\\n",
    "                   'DMQuatY', 'DMQuatZ', 'DMRoll', 'DMRotX', 'DMRotY', 'DMRotZ', 'DMUAccelX', 'DMUAccelY', 'DMUAccelZ', 'DMYaw']\n",
    "\n",
    "# Initialize the scaler\n",
    "scaler = StandardScaler()\n",
    "\n",
    "# Fit and transform the numeric columns\n",
    "data_train[numeric_columns] = scaler.fit_transform(data_train[numeric_columns])"
   ]
  },
  {
   "cell_type": "code",
   "execution_count": null,
   "id": "817925b6-ba66-451d-9a34-1d60bd853a8d",
   "metadata": {},
   "outputs": [],
   "source": [
    "data_train.head()"
   ]
  },
  {
   "cell_type": "markdown",
   "id": "f96eb11f-d131-412b-994f-43dcfc83d984",
   "metadata": {},
   "source": [
    "## <b>Preprocessing on test data</b>"
   ]
  },
  {
   "cell_type": "code",
   "execution_count": null,
   "id": "820a0f1d-54e7-4edc-9168-01689176cc7a",
   "metadata": {},
   "outputs": [],
   "source": [
    "# Drop the columns from the DataFrame\n",
    "data_test = data_test.drop(columns=columns_to_drop)"
   ]
  },
  {
   "cell_type": "code",
   "execution_count": null,
   "id": "41e4453f-c1cf-45cb-ae42-7c2e0a80f166",
   "metadata": {},
   "outputs": [],
   "source": [
    "# Dropping the columns GyroX, GyroY, GyroZ\n",
    "data_test.drop(columns = [\"GyroX\", \"GyroY\", \"GyroZ\"], inplace = True)"
   ]
  },
  {
   "cell_type": "code",
   "execution_count": null,
   "id": "c240fe41-2410-44ea-a5a2-d5b9cdca6b36",
   "metadata": {},
   "outputs": [],
   "source": [
    "# Dropping the column \"Activity\" there is only one value = movements\n",
    "data_test.drop(columns = [\"Activity\"], inplace = True)"
   ]
  },
  {
   "cell_type": "code",
   "execution_count": null,
   "id": "2ac54035-3373-4206-b354-80b1c425da39",
   "metadata": {},
   "outputs": [],
   "source": [
    "# Dropping the column \"RecNo\" and \"SessionId\" they don't add any value\n",
    "data_test.drop(columns = [\"SessionID\", \"RecNo\"], inplace = True)"
   ]
  },
  {
   "cell_type": "code",
   "execution_count": null,
   "id": "8ad3169c-3a16-4ebb-a054-2264ab1bd1d9",
   "metadata": {},
   "outputs": [],
   "source": [
    "# Remove leading/trailing  in Side\n",
    "data_test['Side'] = data_test['Side'].str.strip()"
   ]
  },
  {
   "cell_type": "code",
   "execution_count": null,
   "id": "4e03e91c-54ea-4b8b-954c-5f504b70bb12",
   "metadata": {},
   "outputs": [],
   "source": [
    "# Remove leading/trailing spaces in Wrist\n",
    "data_test['Wrist'] = data_test['Wrist'].str.strip()"
   ]
  },
  {
   "cell_type": "code",
   "execution_count": null,
   "id": "c3d01ec8-90ed-4f60-badf-1090d46c000a",
   "metadata": {},
   "outputs": [],
   "source": [
    "# Convert Side to numeric (dominant = 0, non-dominant = 1)\n",
    "side_num = {'d': 0, 'nd': 1}\n",
    "data_test['Side'] = data_test['Side'].map(side_num)"
   ]
  },
  {
   "cell_type": "code",
   "execution_count": null,
   "id": "8b76914b-4aae-45b8-9800-129811ce7323",
   "metadata": {},
   "outputs": [],
   "source": [
    "# Convert Wrist to numeric (rt = 0, lt = 1)\n",
    "wrist_num = {'rt': 0, 'lt': 1}\n",
    "data_test['Wrist'] = data_test['Wrist'].map(wrist_num)"
   ]
  },
  {
   "cell_type": "code",
   "execution_count": null,
   "id": "67ca0096-8f35-44b1-9770-9b50734d0e8c",
   "metadata": {},
   "outputs": [],
   "source": [
    "# Fit and transform the 'MoveType' column\n",
    "data_test['MoveType_encoded'] = label_encoder.fit_transform(data_test['MoveType'])"
   ]
  },
  {
   "cell_type": "code",
   "execution_count": null,
   "id": "d32baf67-bcbd-4eab-a4a8-3117148be5ad",
   "metadata": {},
   "outputs": [],
   "source": [
    "# Create a new numeric column Target based on the UID\n",
    "# Define the mapping\n",
    "uid_num = {'u01': 0, 'u04': 0, 'u05': 1}\n",
    "# Apply the mapping to create a new column\n",
    "data_test['Target'] = data_test['UID'].map(uid_num)"
   ]
  },
  {
   "cell_type": "code",
   "execution_count": null,
   "id": "9ac6791b-46ec-4366-9911-d7530a366505",
   "metadata": {},
   "outputs": [],
   "source": [
    "#### Drop the column 'UID'\n",
    "data_test.drop('UID', axis=1, inplace=True)"
   ]
  },
  {
   "cell_type": "code",
   "execution_count": null,
   "id": "b334b2dd-bdf5-4070-87ca-e4e49f9c5d4a",
   "metadata": {},
   "outputs": [],
   "source": [
    "#### Drop the column 'MoveType'\n",
    "data_test.drop('MoveType', axis=1, inplace=True)"
   ]
  },
  {
   "cell_type": "code",
   "execution_count": null,
   "id": "4403119c-b8ae-425d-a76b-b9a8a9095d2d",
   "metadata": {},
   "outputs": [],
   "source": [
    "#### Drop the column 'LoggingTime'\n",
    "data_test.drop('LoggingTime', axis=1, inplace=True)"
   ]
  },
  {
   "cell_type": "code",
   "execution_count": null,
   "id": "fd0d0530-c8bc-48ab-b16b-3b44d296ecc6",
   "metadata": {},
   "outputs": [],
   "source": [
    "#### Drop the column 'Hertz'\n",
    "data_test.drop('Hertz', axis=1, inplace=True)"
   ]
  },
  {
   "cell_type": "code",
   "execution_count": null,
   "id": "238f10ce-20ed-42d4-89c8-4675a8460f24",
   "metadata": {},
   "outputs": [],
   "source": [
    "# Fit and transform the numeric columns\n",
    "data_test[numeric_columns] = scaler.fit_transform(data_test[numeric_columns])"
   ]
  },
  {
   "cell_type": "code",
   "execution_count": null,
   "id": "d9086c2c-02f9-4edc-ad83-71c9af54948f",
   "metadata": {},
   "outputs": [],
   "source": [
    "data_test.head()"
   ]
  },
  {
   "cell_type": "code",
   "execution_count": null,
   "id": "52ae5ce9-313a-4272-a2b7-f25c6ac61da8",
   "metadata": {},
   "outputs": [],
   "source": [
    "train_columns = set(data_train.columns)\n",
    "test_columns = set(data_test.columns)\n",
    "\n",
    "# Columns present in train but not in test\n",
    "train_not_in_test = train_columns - test_columns\n",
    "\n",
    "# Columns present in test but not in train\n",
    "test_not_in_train = test_columns - train_columns\n",
    "\n",
    "print(\"Columns in train but not in test:\", train_not_in_test)\n",
    "print(\"Columns in test but not in train:\", test_not_in_train)"
   ]
  },
  {
   "cell_type": "code",
   "execution_count": null,
   "id": "68128fa4-81d7-486d-b8b6-e09e24ddcdad",
   "metadata": {},
   "outputs": [],
   "source": [
    "#### Drop the column 'TimeStamp'\n",
    "data_test.drop('TimeStamp', axis=1, inplace=True)"
   ]
  },
  {
   "cell_type": "markdown",
   "id": "8bc15fe7-c13e-4eb7-9f65-fe97a79e99f4",
   "metadata": {},
   "source": [
    "## <b>Save the cleaned data</b>"
   ]
  },
  {
   "cell_type": "code",
   "execution_count": null,
   "id": "42dda14c-614b-46a8-a7d2-72c26d5f7ee5",
   "metadata": {},
   "outputs": [],
   "source": [
    "# Define the directory path\n",
    "dir_path = 'data_cleaned'\n",
    "\n",
    "# Check if the directory exists, if not, create it\n",
    "if not os.path.exists(dir_path):\n",
    "    os.makedirs(dir_path)\n",
    "    \n",
    "### Save the cleaned data\n",
    "data_train.to_csv('data_cleaned/train_cleaned.csv', index=False)\n",
    "data_test.to_csv('data_cleaned/test_cleaned.csv', index=False)"
   ]
  }
 ],
 "metadata": {
  "kernelspec": {
   "display_name": "Python 3 (ipykernel)",
   "language": "python",
   "name": "python3"
  },
  "language_info": {
   "codemirror_mode": {
    "name": "ipython",
    "version": 3
   },
   "file_extension": ".py",
   "mimetype": "text/x-python",
   "name": "python",
   "nbconvert_exporter": "python",
   "pygments_lexer": "ipython3",
   "version": "3.12.3"
  }
 },
 "nbformat": 4,
 "nbformat_minor": 5
}
