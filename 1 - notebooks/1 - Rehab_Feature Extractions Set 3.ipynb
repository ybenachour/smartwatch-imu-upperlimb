{
 "cells": [
  {
   "cell_type": "markdown",
   "id": "feece969-7c16-484a-a4b6-1a4f32545c11",
   "metadata": {},
   "source": [
    "# <b>Sliding Window Analysis and Feature Extraction</b>\n",
    "\n",
    "\n",
    "In this version we will update a notebook by integrating the following comment:\n",
    "\n",
    "➡️ In the context of activity recognition, **standardizing** the data is generally a good practice, especially if you are using machine learning algorithms that are sensitive to the scale of the input features. Standardization helps in ensuring that each feature contributes equally to the distance calculations and model training.\n",
    "\n",
    "➡️ Use the other recorded data (**DMgravity** and acceleration raw data)\n",
    "\n",
    "➡️ **Optimization** : noise filter and sampling window (2.56 s)\n",
    "\n",
    "➡️ Keep the data related to the user `UAMSWH`\n",
    "\n",
    "➡️ **Jerk signal**: the derivative of the acceleration signal. It quantifies how quickly the acceleration is changing over time.\n",
    "We might apply a smoothing filter to the jerk signals to reduce noise (moving average/ Gaussian filters)\n",
    "\n",
    "\n",
    "➡️ **Magnitude**: calculation of the Euclidean norm (or Euclidean length) of a vector. For a 3-dimensional signal, this means calculating the combined effect of the signal's components along the **X**, **Y**, and **Z** axes. This is particularly useful because it provides a single scalar value representing the overall magnitude of the vector at each time point, simplifying analysis and feature extraction\n",
    "\n",
    "➡️ Run `tsne` without feature extraction"
   ]
  },
  {
   "cell_type": "markdown",
   "id": "0d0da6c8-199f-4bfe-a27e-71b7c99b9fe0",
   "metadata": {},
   "source": [
    "## **Steps:**\n",
    "\n",
    "We will use data from only one user and one movement \n",
    "\n",
    "\n",
    "1. Determine the Window and Step Size:\n",
    "\n",
    "    - Sampling rate: 20 Hz\n",
    "    - Typical window size for capturing meaningful motion (e.g., 1 second): 20 samples\n",
    "    - Step size with 50% overlap: 10 samples.\n",
    "    \n",
    "    <br>\n",
    "    \n",
    "2. Extract Time-Domain and Frequency-Domain Features:\n",
    "\n",
    "    - Time-Domain: Mean, standard deviation, min, max, range\n",
    "    - Frequency-Domain: Total power, dominant frequency, power in specific bands\n",
    "    \n",
    "    <br>\n",
    "\n",
    "3. Visualization and Feature Extraction"
   ]
  },
  {
   "cell_type": "markdown",
   "id": "c98fa8ad-59a6-450a-9f8b-eca9dbbefa29",
   "metadata": {},
   "source": [
    "## Import packages"
   ]
  },
  {
   "cell_type": "code",
   "execution_count": 4,
   "id": "3c7d8978-48b7-456b-8f73-08df2acd5ab7",
   "metadata": {},
   "outputs": [],
   "source": [
    "import os\n",
    "from time import time\n",
    "from datetime import timedelta\n",
    "\n",
    "import numpy as np\n",
    "import pandas as pd\n",
    "import matplotlib.pyplot as plt \n",
    "import seaborn as sns\n",
    "\n",
    "# Discrete Fourier transform of real or complex sequence.\n",
    "from scipy.fftpack import fft"
   ]
  },
  {
   "cell_type": "markdown",
   "id": "ed3eb33d-a91c-4bc5-a3cd-4dd664e19f3e",
   "metadata": {},
   "source": [
    "## Load data"
   ]
  },
  {
   "cell_type": "code",
   "execution_count": 6,
   "id": "436043db-893d-4b24-92dd-c2e24bc81b76",
   "metadata": {},
   "outputs": [
    {
     "name": "stdout",
     "output_type": "stream",
     "text": [
      "Shape of train data: (188717, 40)\n"
     ]
    }
   ],
   "source": [
    "# Storing the path of the extracted \"train\" folder \n",
    "Rehab_data_dir = \"D:/Dropbox/Work/Learning/Python/Rehab data/\"\n",
    "HemiPhysioData_folder_name = \"Sensor Data_ML scripts_Models/SensorData_HemiPhysioDataApp(Our App)/\"\n",
    "\n",
    "# Loading the train data\n",
    "#data_train = pd.read_csv(Rehab_data_dir + HemiPhysioData_folder_name + \"ml_data/train/u01/u01_movements_el-exfl_d_rt_20_20200520-2158.csv\")\n",
    "data_train = pd.read_csv(Rehab_data_dir + HemiPhysioData_folder_name + \"Research 2/all_train.csv\")\n",
    "\n",
    "# Shape of train, test, and validation data\n",
    "print('Shape of train data:', data_train.shape)"
   ]
  },
  {
   "cell_type": "code",
   "execution_count": 7,
   "id": "ad51aa47-b4f1-4530-82af-ca2bd6c2799f",
   "metadata": {},
   "outputs": [
    {
     "name": "stdout",
     "output_type": "stream",
     "text": [
      "Columns to convert to float: ['AccelroX', 'AceelroY', 'AceelroZ', 'DMGrvX', 'DMGrvY', 'DMGrvZ', 'DMPitch', 'DMQuatW', 'DMQuatX', 'DMQuatY', 'DMQuatZ', 'DMRoll', 'DMRotX', 'DMRotY', 'DMRotZ', 'DMUAccelX', 'DMUAccelY', 'DMUAccelZ', 'DMYaw', 'TimeStamp']\n",
      "Columns to convert to int: ['Hertz', 'RecNo']\n"
     ]
    }
   ],
   "source": [
    "# Columns to convert to float64\n",
    "float_cols = [\n",
    "    'AccelroX', 'AceelroY', 'AceelroZ', 'DMGrvX', 'DMGrvY', 'DMGrvZ',\n",
    "    'DMPitch', 'DMQuatW', 'DMQuatX', 'DMQuatY', 'DMQuatZ',\n",
    "    'DMRoll', 'DMRotX', 'DMRotY', 'DMRotZ',\n",
    "    'DMUAccelX', 'DMUAccelY', 'DMUAccelZ',\n",
    "    'DMYaw', 'TimeStamp'\n",
    "]\n",
    "\n",
    "# Columns to convert to int64\n",
    "int_cols = ['Hertz', 'RecNo']\n",
    "\n",
    "# Verify column names\n",
    "print(\"Columns to convert to float:\", float_cols)\n",
    "print(\"Columns to convert to int:\", int_cols)\n"
   ]
  },
  {
   "cell_type": "code",
   "execution_count": 8,
   "id": "c3e47182-6acc-4e5b-96bd-e94791f4ce58",
   "metadata": {},
   "outputs": [
    {
     "name": "stdout",
     "output_type": "stream",
     "text": [
      "\n",
      "Data Info After Converting to float:\n",
      "<class 'pandas.core.frame.DataFrame'>\n",
      "RangeIndex: 188717 entries, 0 to 188716\n",
      "Data columns (total 40 columns):\n",
      " #   Column       Non-Null Count   Dtype  \n",
      "---  ------       --------------   -----  \n",
      " 0   AM           188717 non-null  object \n",
      " 1   AMS          188717 non-null  object \n",
      " 2   AMSW         188717 non-null  object \n",
      " 3   AMW          188717 non-null  object \n",
      " 4   AccelroX     188717 non-null  float64\n",
      " 5   AceelroY     188717 non-null  float64\n",
      " 6   AceelroZ     188717 non-null  float64\n",
      " 7   Activity     188717 non-null  object \n",
      " 8   DMGrvX       188717 non-null  float64\n",
      " 9   DMGrvY       188717 non-null  float64\n",
      " 10  DMGrvZ       188717 non-null  float64\n",
      " 11  DMPitch      188717 non-null  float64\n",
      " 12  DMQuatW      188717 non-null  float64\n",
      " 13  DMQuatX      188717 non-null  float64\n",
      " 14  DMQuatY      188717 non-null  float64\n",
      " 15  DMQuatZ      188717 non-null  float64\n",
      " 16  DMRoll       188717 non-null  float64\n",
      " 17  DMRotX       188717 non-null  float64\n",
      " 18  DMRotY       188717 non-null  float64\n",
      " 19  DMRotZ       188717 non-null  float64\n",
      " 20  DMUAccelX    188717 non-null  float64\n",
      " 21  DMUAccelY    188717 non-null  float64\n",
      " 22  DMUAccelZ    188717 non-null  float64\n",
      " 23  DMYaw        188717 non-null  float64\n",
      " 24  GyroX        167263 non-null  float64\n",
      " 25  GyroY        167263 non-null  float64\n",
      " 26  GyroZ        167263 non-null  float64\n",
      " 27  Hertz        188717 non-null  int64  \n",
      " 28  LoggingTime  188717 non-null  object \n",
      " 29  MoveType     188717 non-null  object \n",
      " 30  RecNo        188717 non-null  int64  \n",
      " 31  SessionID    188717 non-null  object \n",
      " 32  Side         188717 non-null  object \n",
      " 33  TimeStamp    188717 non-null  float64\n",
      " 34  UAMS         188717 non-null  object \n",
      " 35  UAMSW        188717 non-null  object \n",
      " 36  UAMSWH       188717 non-null  object \n",
      " 37  UAMW         188717 non-null  object \n",
      " 38  UID          188717 non-null  object \n",
      " 39  Wrist        188717 non-null  object \n",
      "dtypes: float64(23), int64(2), object(15)\n",
      "memory usage: 57.6+ MB\n",
      "None\n"
     ]
    }
   ],
   "source": [
    "# Convert specified columns to float64\n",
    "for col in float_cols:\n",
    "    data_train[col] = pd.to_numeric(data_train[col], errors='coerce')\n",
    "\n",
    "print(\"\\nData Info After Converting to float:\")\n",
    "print(data_train.info())\n"
   ]
  },
  {
   "cell_type": "code",
   "execution_count": 9,
   "id": "9d395813-23b2-4e91-9566-ccc19eb79ee8",
   "metadata": {},
   "outputs": [
    {
     "name": "stdout",
     "output_type": "stream",
     "text": [
      "\n",
      "Data Info After Converting to int:\n",
      "<class 'pandas.core.frame.DataFrame'>\n",
      "RangeIndex: 188717 entries, 0 to 188716\n",
      "Data columns (total 40 columns):\n",
      " #   Column       Non-Null Count   Dtype  \n",
      "---  ------       --------------   -----  \n",
      " 0   AM           188717 non-null  object \n",
      " 1   AMS          188717 non-null  object \n",
      " 2   AMSW         188717 non-null  object \n",
      " 3   AMW          188717 non-null  object \n",
      " 4   AccelroX     188717 non-null  float64\n",
      " 5   AceelroY     188717 non-null  float64\n",
      " 6   AceelroZ     188717 non-null  float64\n",
      " 7   Activity     188717 non-null  object \n",
      " 8   DMGrvX       188717 non-null  float64\n",
      " 9   DMGrvY       188717 non-null  float64\n",
      " 10  DMGrvZ       188717 non-null  float64\n",
      " 11  DMPitch      188717 non-null  float64\n",
      " 12  DMQuatW      188717 non-null  float64\n",
      " 13  DMQuatX      188717 non-null  float64\n",
      " 14  DMQuatY      188717 non-null  float64\n",
      " 15  DMQuatZ      188717 non-null  float64\n",
      " 16  DMRoll       188717 non-null  float64\n",
      " 17  DMRotX       188717 non-null  float64\n",
      " 18  DMRotY       188717 non-null  float64\n",
      " 19  DMRotZ       188717 non-null  float64\n",
      " 20  DMUAccelX    188717 non-null  float64\n",
      " 21  DMUAccelY    188717 non-null  float64\n",
      " 22  DMUAccelZ    188717 non-null  float64\n",
      " 23  DMYaw        188717 non-null  float64\n",
      " 24  GyroX        167263 non-null  float64\n",
      " 25  GyroY        167263 non-null  float64\n",
      " 26  GyroZ        167263 non-null  float64\n",
      " 27  Hertz        188717 non-null  Int64  \n",
      " 28  LoggingTime  188717 non-null  object \n",
      " 29  MoveType     188717 non-null  object \n",
      " 30  RecNo        188717 non-null  Int64  \n",
      " 31  SessionID    188717 non-null  object \n",
      " 32  Side         188717 non-null  object \n",
      " 33  TimeStamp    188717 non-null  float64\n",
      " 34  UAMS         188717 non-null  object \n",
      " 35  UAMSW        188717 non-null  object \n",
      " 36  UAMSWH       188717 non-null  object \n",
      " 37  UAMW         188717 non-null  object \n",
      " 38  UID          188717 non-null  object \n",
      " 39  Wrist        188717 non-null  object \n",
      "dtypes: Int64(2), float64(23), object(15)\n",
      "memory usage: 58.0+ MB\n",
      "None\n"
     ]
    }
   ],
   "source": [
    "# Convert specified columns to Int64 (nullable integer type)\n",
    "for col in int_cols:\n",
    "    data_train[col] = pd.to_numeric(data_train[col], errors='coerce').astype('Int64')\n",
    "\n",
    "print(\"\\nData Info After Converting to int:\")\n",
    "print(data_train.info())\n"
   ]
  },
  {
   "cell_type": "code",
   "execution_count": 10,
   "id": "5dde3739-2f59-4acf-aee8-845e7a227320",
   "metadata": {},
   "outputs": [
    {
     "name": "stdout",
     "output_type": "stream",
     "text": [
      "\n",
      "Missing Values per Column:\n",
      "GyroX    21454\n",
      "GyroY    21454\n",
      "GyroZ    21454\n",
      "dtype: int64\n"
     ]
    }
   ],
   "source": [
    "# Summary of missing values\n",
    "missing_values = data_train.isnull().sum()\n",
    "print(\"\\nMissing Values per Column:\")\n",
    "print(missing_values[missing_values > 0])"
   ]
  },
  {
   "cell_type": "code",
   "execution_count": 11,
   "id": "71729aaf-b158-4c26-b7d4-19302f3b6abf",
   "metadata": {},
   "outputs": [],
   "source": [
    "data_train.dropna(inplace=True)"
   ]
  },
  {
   "cell_type": "markdown",
   "id": "2a9e3616-0208-46c6-8c00-0301c474a0fb",
   "metadata": {},
   "source": [
    "Window and Step Size:\n",
    "\n",
    "- Sampling rate: 20 Hz\n",
    "- Typical window size for capturing meaningful motion (e.g., 1 second): 20 samples\n",
    "- Step size with 50% overlap: 10 samples.\n",
    "\n",
    "Data to be Extracted:\n",
    "- **DMRoll/Pitch/Yaw** - Device Motion processed values Roll, Pitch, and Yaw\n",
    "- **DMRotX/Y/Z** - Device motion processed rotation x, y, and z \n",
    "- **DMUAccelX/Y/Z** - Device motion processed user acceleration x, y, and z. ***Excludes gravity, only includes motion.***\n",
    "- **DMGrvX/Y/Z** - Device motion processed gravity x, y, and z\n",
    "\n",
    "\n",
    "*More details on the notebook: `\\Rehab data\\Sensor Data_ML scripts_Models\\SensorData_HemiPhysioDataApp(Our App)\\ml_data`*"
   ]
  },
  {
   "cell_type": "markdown",
   "id": "44de167b-c7ed-408b-96ca-b18903c0add0",
   "metadata": {},
   "source": [
    "## Sliding Window Parameters"
   ]
  },
  {
   "cell_type": "code",
   "execution_count": 14,
   "id": "1d6495d2-8cc0-46b4-b2a9-d76ccb80423a",
   "metadata": {},
   "outputs": [],
   "source": [
    "# Parameters 1\n",
    "# sampling_rate = 20  # 20 Hz\n",
    "# window_size = 20  # 1 second\n",
    "# step_size = 10  # 50% overlap\n",
    "\n",
    "# Parameters 2\n",
    "sampling_rate = 20  # 20 Hz\n",
    "window_size = 52  # 2.56 seconds (52 samples)\n",
    "step_size = 26  # 50% overlap"
   ]
  },
  {
   "cell_type": "markdown",
   "id": "3cf56289-aeed-475d-acf5-2d1891c6d5d9",
   "metadata": {},
   "source": [
    "## **Function to Calculate Jerk Signals and Magnitude**\n",
    "\n",
    "We have to ensure that the jerk signals have the same length as the original signals by padding appropriately."
   ]
  },
  {
   "cell_type": "code",
   "execution_count": 16,
   "id": "e4f47db3-90a6-4130-b968-2a15e73146e8",
   "metadata": {},
   "outputs": [],
   "source": [
    "def moving_average(signal, window_size):\n",
    "    return np.convolve(signal, np.ones(window_size)/window_size, mode='same')\n",
    "\n",
    "def calculate_jerk_signals_and_magnitude(df, x_col, y_col, z_col):\n",
    "    # Jerk signal (derivative of acceleration)\n",
    "    jerk_x = np.diff(df[x_col].values, n=1, axis=0)\n",
    "    jerk_y = np.diff(df[y_col].values, n=1, axis=0)\n",
    "    jerk_z = np.diff(df[z_col].values, n=1, axis=0)\n",
    "\n",
    "    # Add a padding to match the length of the original data\n",
    "    jerk_x = np.pad(jerk_x, (1, 0), 'constant', constant_values=(0, 0))\n",
    "    jerk_y = np.pad(jerk_y, (1, 0), 'constant', constant_values=(0, 0))\n",
    "    jerk_z = np.pad(jerk_z, (1, 0), 'constant', constant_values=(0, 0))\n",
    "\n",
    "    # Smoothing the jerk signals\n",
    "    jerk_x = moving_average(jerk_x, window_size=5)  # Applying moving average filter\n",
    "    jerk_y = moving_average(jerk_y, window_size=5)  # Applying moving average filter\n",
    "    jerk_z = moving_average(jerk_z, window_size=5)  # Applying moving average filter\n",
    "\n",
    "    # Magnitude calculation (Euclidean norm)\n",
    "    magnitude = np.sqrt(df[x_col]**2 + df[y_col]**2 + df[z_col]**2)\n",
    "    jerk_magnitude = np.sqrt(jerk_x**2 + jerk_y**2 + jerk_z**2)\n",
    "\n",
    "    # Ensure the lengths match\n",
    "    assert len(jerk_x) == len(df)\n",
    "    assert len(jerk_y) == len(df)\n",
    "    assert len(jerk_z) == len(df)\n",
    "    assert len(magnitude) == len(df)\n",
    "    assert len(jerk_magnitude) == len(df)\n",
    "\n",
    "    # Add to the dataframe\n",
    "    df[f'{x_col}_Jerk'] = jerk_x\n",
    "    df[f'{y_col}_Jerk'] = jerk_y\n",
    "    df[f'{z_col}_Jerk'] = jerk_z\n",
    "    df[f'{x_col.split(\"_\")[0]}_Mag'] = magnitude\n",
    "    df[f'{x_col.split(\"_\")[0]}_Jerk_Mag'] = jerk_magnitude\n",
    "\n",
    "    # Rename columns to desired format based on signal names\n",
    "    \n",
    "    # DMUAccelX/Y/Z\n",
    "    if (x_col, y_col, z_col) == ('DMUAccelX', 'DMUAccelY', 'DMUAccelZ'):\n",
    "        df.rename(columns={f'{x_col.split(\"_\")[0]}_Mag': 'DMUAccel_Mag',\n",
    "                           f'{x_col.split(\"_\")[0]}_Jerk_Mag': 'DMUAccel_Jerk_Mag'}, inplace=True)\n",
    "    # 'DMRoll', 'DMPitch', 'DMYaw'\n",
    "    elif (x_col, y_col, z_col) == ('DMRoll', 'DMPitch', 'DMYaw'):\n",
    "        df.rename(columns={f'{x_col.split(\"_\")[0]}_Mag': 'DMOrientation_Mag',\n",
    "                           f'{x_col.split(\"_\")[0]}_Jerk_Mag': 'DMOrientation_Jerk_Mag'}, inplace=True)\n",
    "    # DMRotX/Y/Z\n",
    "    elif (x_col, y_col, z_col) == ('DMRotX', 'DMRotY', 'DMRotZ'):\n",
    "        df.rename(columns={f'{x_col.split(\"_\")[0]}_Mag': 'DMRot_Mag',\n",
    "                           f'{x_col.split(\"_\")[0]}_Jerk_Mag': 'DMRot_Jerk_Mag'}, inplace=True)\n",
    "    # DMGrvX/Y/Z\n",
    "    elif (x_col, y_col, z_col) == ('DMGrvX', 'DMGrvY', 'DMGrvZ'):\n",
    "        df.rename(columns={f'{x_col.split(\"_\")[0]}_Mag': 'DMGrv_Mag',\n",
    "                           f'{x_col.split(\"_\")[0]}_Jerk_Mag': 'DMGrv_Jerk_Mag'}, inplace=True)\n",
    "\n",
    "    # DMQuatX/YZ\n",
    "    elif (x_col, y_col, z_col) == ('DMQuatX', 'DMQuatY', 'DMQuatZ'):\n",
    "        df.rename(columns={f'{x_col.split(\"_\")[0]}_Mag': 'DMQuat_Mag',\n",
    "                           f'{x_col.split(\"_\")[0]}_Jerk_Mag': 'DMQuat_Jerk_Mag'}, inplace=True)\n",
    "        \n",
    "    return df"
   ]
  },
  {
   "cell_type": "markdown",
   "id": "1883a545-75ea-48c2-930d-b5213ff43f10",
   "metadata": {},
   "source": [
    "## **Extract time-domain and frequency-domain features**\n",
    "- Create Function to extract time-domain and frequency-domain features**"
   ]
  },
  {
   "cell_type": "code",
   "execution_count": 18,
   "id": "4c219a72-abe5-44f2-8d65-2305a60377ac",
   "metadata": {},
   "outputs": [],
   "source": [
    "# Import specific packages\n",
    "from scipy.stats import skew, kurtosis\n",
    "from scipy.fftpack import fft\n",
    "from scipy.signal import find_peaks\n",
    "from statsmodels.tsa.ar_model import AutoReg"
   ]
  },
  {
   "cell_type": "code",
   "execution_count": 19,
   "id": "4110136c-bab4-4c7b-8092-848e2e69a222",
   "metadata": {},
   "outputs": [],
   "source": [
    "def extract_features(window, signal_name):\n",
    "    # Time-domain features\n",
    "    mean_val = np.mean(window)\n",
    "    std_dev = np.std(window)\n",
    "    mad_val = np.median(np.abs(window - np.median(window)))\n",
    "    min_val = np.min(window)\n",
    "    max_val = np.max(window)\n",
    "    range_val = max_val - min_val\n",
    "    sma_val = np.sum(np.abs(window))\n",
    "    energy_val = np.sum(window**2) / len(window)\n",
    "    iqr_val = np.percentile(window, 75) - np.percentile(window, 25)\n",
    "    \n",
    "    eps = np.finfo(float).eps  # Small constant to avoid log2(0)\n",
    "    \n",
    "    # Auto-regression coefficients (order 4)\n",
    "    ar_model = AutoReg(window, lags=4).fit()\n",
    "    ar_coeffs = ar_model.params\n",
    "    \n",
    "    # Frequency-domain features\n",
    "    freqs = fft(window)\n",
    "    freqs = np.abs(freqs[:len(freqs)//2])  # Take the positive frequencies\n",
    "    power = freqs ** 2  # Power spectrum\n",
    "    total_power = np.sum(power)\n",
    "    max_ind = np.argmax(power)  # dominant_frequency\n",
    "    mean_freq = np.sum(freqs * power) / total_power if total_power > 0 else 0\n",
    "    skewness_val = skew(freqs)\n",
    "    kurtosis_val = kurtosis(freqs)\n",
    "    \n",
    "    features = {\n",
    "        f'{signal_name}_mean': mean_val,\n",
    "        f'{signal_name}_std_dev': std_dev,\n",
    "        f'{signal_name}_mad': mad_val,\n",
    "        f'{signal_name}_min': min_val,\n",
    "        f'{signal_name}_max': max_val,\n",
    "        f'{signal_name}_range': range_val,\n",
    "        f'{signal_name}_sma': sma_val,\n",
    "        f'{signal_name}_energy': energy_val,\n",
    "        f'{signal_name}_iqr': iqr_val,\n",
    "        f'{signal_name}_arCoeff1': ar_coeffs[1] if len(ar_coeffs) > 1 else 0,\n",
    "        f'{signal_name}_arCoeff2': ar_coeffs[2] if len(ar_coeffs) > 2 else 0,\n",
    "        f'{signal_name}_arCoeff3': ar_coeffs[3] if len(ar_coeffs) > 3 else 0,\n",
    "        f'{signal_name}_arCoeff4': ar_coeffs[4] if len(ar_coeffs) > 4 else 0,\n",
    "        f'{signal_name}_power': total_power,\n",
    "        f'{signal_name}_maxInd': max_ind,\n",
    "        f'{signal_name}_meanFreq': mean_freq,\n",
    "        f'{signal_name}_skewness': skewness_val,\n",
    "        f'{signal_name}_kurtosis': kurtosis_val,\n",
    "    }\n",
    "    \n",
    "    return features"
   ]
  },
  {
   "cell_type": "markdown",
   "id": "eb45cba8-b0b4-4575-bbde-22e05d386055",
   "metadata": {},
   "source": [
    "## **Sliding Window Analysis Function**\n",
    "\n",
    "* Integrate the user information and MoveType into the sliding window analysis \n",
    "* We modified the sliding_window_analysis function to handle grouping by `UAMSWH` and `SessionID`\n",
    "\n",
    "Steps:\n",
    "\n",
    "1. Group Data by User and Session: We use `groupby` to process each user's session separately.\n",
    "2. Sliding Window Analysis: We apply the sliding window analysis within each group.\n",
    "3. Keep User Information: Ensure user information and MoveType are retained in the features DataFrame."
   ]
  },
  {
   "cell_type": "code",
   "execution_count": 21,
   "id": "bd655887-d95b-4da1-951f-dc4416793731",
   "metadata": {},
   "outputs": [],
   "source": [
    "def sliding_window_analysis_optimized(df, signals):\n",
    "    all_features = []\n",
    "\n",
    "    # Iterate over each group of user sessions\n",
    "    for name, group in df.groupby(['UAMSWH', 'SessionID']):\n",
    "        indices = group.index\n",
    "        \n",
    "        # Create sliding windows for each signal\n",
    "        sliding_windows = {signal_name: np.lib.stride_tricks.sliding_window_view(signal[indices], window_size)[::step_size]\n",
    "                           for signal_name, signal in signals.items()}\n",
    "        \n",
    "        # Ensure all signals have the same number of windows\n",
    "        num_windows = len(next(iter(sliding_windows.values())))\n",
    "        \n",
    "        for window_idx in range(num_windows):\n",
    "            combined_features = {}\n",
    "            for signal_name, windows in sliding_windows.items():\n",
    "                window = windows[window_idx]\n",
    "                features = extract_features(window, signal_name)\n",
    "                combined_features.update(features)\n",
    "            \n",
    "            # Include user information and MoveType\n",
    "            combined_features['UAMSWH'] = group['UAMSWH'].iloc[0]\n",
    "            combined_features['SessionID'] = group['SessionID'].iloc[0]\n",
    "            combined_features['MoveType'] = group['MoveType'].iloc[0]\n",
    "            \n",
    "            all_features.append(combined_features)\n",
    "    \n",
    "    return pd.DataFrame(all_features)"
   ]
  },
  {
   "cell_type": "markdown",
   "id": "ca06fa4b-d253-4d2a-985d-f8471acd21dd",
   "metadata": {},
   "source": [
    "## <b>Perform Analysis</b>"
   ]
  },
  {
   "cell_type": "markdown",
   "id": "964f17da-e498-4b0c-8516-bf1f7491b051",
   "metadata": {},
   "source": [
    "#### **Add Calculated Signals to DataFrame**"
   ]
  },
  {
   "cell_type": "code",
   "execution_count": 24,
   "id": "09f5b7c1-a9e6-4cc8-be01-bd172906ac75",
   "metadata": {},
   "outputs": [],
   "source": [
    "# Add jerk signals and magnitudes to the data_train DataFrame\n",
    "data_train = calculate_jerk_signals_and_magnitude(data_train, 'DMUAccelX', 'DMUAccelY', 'DMUAccelZ')\n",
    "data_train = calculate_jerk_signals_and_magnitude(data_train, 'DMRoll', 'DMPitch', 'DMYaw')\n",
    "data_train = calculate_jerk_signals_and_magnitude(data_train, 'DMRotX', 'DMRotY', 'DMRotZ')\n",
    "data_train = calculate_jerk_signals_and_magnitude(data_train, 'DMGrvX', 'DMGrvY', 'DMGrvZ')\n",
    "data_train = calculate_jerk_signals_and_magnitude(data_train, 'DMQuatX', 'DMQuatY', 'DMQuatZ')"
   ]
  },
  {
   "cell_type": "code",
   "execution_count": 25,
   "id": "0fbee2f1-ce2f-4082-a111-3df1be162c24",
   "metadata": {},
   "outputs": [
    {
     "name": "stdout",
     "output_type": "stream",
     "text": [
      "<class 'pandas.core.frame.DataFrame'>\n",
      "Index: 167263 entries, 1400 to 188716\n",
      "Data columns (total 65 columns):\n",
      " #   Column                  Non-Null Count   Dtype  \n",
      "---  ------                  --------------   -----  \n",
      " 0   AM                      167263 non-null  object \n",
      " 1   AMS                     167263 non-null  object \n",
      " 2   AMSW                    167263 non-null  object \n",
      " 3   AMW                     167263 non-null  object \n",
      " 4   AccelroX                167263 non-null  float64\n",
      " 5   AceelroY                167263 non-null  float64\n",
      " 6   AceelroZ                167263 non-null  float64\n",
      " 7   Activity                167263 non-null  object \n",
      " 8   DMGrvX                  167263 non-null  float64\n",
      " 9   DMGrvY                  167263 non-null  float64\n",
      " 10  DMGrvZ                  167263 non-null  float64\n",
      " 11  DMPitch                 167263 non-null  float64\n",
      " 12  DMQuatW                 167263 non-null  float64\n",
      " 13  DMQuatX                 167263 non-null  float64\n",
      " 14  DMQuatY                 167263 non-null  float64\n",
      " 15  DMQuatZ                 167263 non-null  float64\n",
      " 16  DMRoll                  167263 non-null  float64\n",
      " 17  DMRotX                  167263 non-null  float64\n",
      " 18  DMRotY                  167263 non-null  float64\n",
      " 19  DMRotZ                  167263 non-null  float64\n",
      " 20  DMUAccelX               167263 non-null  float64\n",
      " 21  DMUAccelY               167263 non-null  float64\n",
      " 22  DMUAccelZ               167263 non-null  float64\n",
      " 23  DMYaw                   167263 non-null  float64\n",
      " 24  GyroX                   167263 non-null  float64\n",
      " 25  GyroY                   167263 non-null  float64\n",
      " 26  GyroZ                   167263 non-null  float64\n",
      " 27  Hertz                   167263 non-null  Int64  \n",
      " 28  LoggingTime             167263 non-null  object \n",
      " 29  MoveType                167263 non-null  object \n",
      " 30  RecNo                   167263 non-null  Int64  \n",
      " 31  SessionID               167263 non-null  object \n",
      " 32  Side                    167263 non-null  object \n",
      " 33  TimeStamp               167263 non-null  float64\n",
      " 34  UAMS                    167263 non-null  object \n",
      " 35  UAMSW                   167263 non-null  object \n",
      " 36  UAMSWH                  167263 non-null  object \n",
      " 37  UAMW                    167263 non-null  object \n",
      " 38  UID                     167263 non-null  object \n",
      " 39  Wrist                   167263 non-null  object \n",
      " 40  DMUAccelX_Jerk          167263 non-null  float64\n",
      " 41  DMUAccelY_Jerk          167263 non-null  float64\n",
      " 42  DMUAccelZ_Jerk          167263 non-null  float64\n",
      " 43  DMUAccel_Mag            167263 non-null  float64\n",
      " 44  DMUAccel_Jerk_Mag       167263 non-null  float64\n",
      " 45  DMRoll_Jerk             167263 non-null  float64\n",
      " 46  DMPitch_Jerk            167263 non-null  float64\n",
      " 47  DMYaw_Jerk              167263 non-null  float64\n",
      " 48  DMOrientation_Mag       167263 non-null  float64\n",
      " 49  DMOrientation_Jerk_Mag  167263 non-null  float64\n",
      " 50  DMRotX_Jerk             167263 non-null  float64\n",
      " 51  DMRotY_Jerk             167263 non-null  float64\n",
      " 52  DMRotZ_Jerk             167263 non-null  float64\n",
      " 53  DMRot_Mag               167263 non-null  float64\n",
      " 54  DMRot_Jerk_Mag          167263 non-null  float64\n",
      " 55  DMGrvX_Jerk             167263 non-null  float64\n",
      " 56  DMGrvY_Jerk             167263 non-null  float64\n",
      " 57  DMGrvZ_Jerk             167263 non-null  float64\n",
      " 58  DMGrv_Mag               167263 non-null  float64\n",
      " 59  DMGrv_Jerk_Mag          167263 non-null  float64\n",
      " 60  DMQuatX_Jerk            167263 non-null  float64\n",
      " 61  DMQuatY_Jerk            167263 non-null  float64\n",
      " 62  DMQuatZ_Jerk            167263 non-null  float64\n",
      " 63  DMQuat_Mag              167263 non-null  float64\n",
      " 64  DMQuat_Jerk_Mag         167263 non-null  float64\n",
      "dtypes: Int64(2), float64(48), object(15)\n",
      "memory usage: 84.5+ MB\n",
      "None\n"
     ]
    }
   ],
   "source": [
    "# Display the first few rows to verify\n",
    "print(data_train.info())"
   ]
  },
  {
   "cell_type": "markdown",
   "id": "cb138709-b036-44a1-9db9-8a8cba8b6128",
   "metadata": {},
   "source": [
    "#### **Perform sliding window analysis**"
   ]
  },
  {
   "cell_type": "code",
   "execution_count": 27,
   "id": "5dbf3437-95ac-473f-ab53-287a319ee11e",
   "metadata": {},
   "outputs": [],
   "source": [
    "# Define the signals dictionary\n",
    "signals = {\n",
    "    'DMUAccel_X': data_train['DMUAccelX'].values,\n",
    "    'DMUAccel_Y': data_train['DMUAccelY'].values,\n",
    "    'DMUAccel_Z': data_train['DMUAccelZ'].values,\n",
    "    'DMUAccel_X_Jerk': data_train['DMUAccelX_Jerk'].values,\n",
    "    'DMUAccel_Y_Jerk': data_train['DMUAccelY_Jerk'].values,\n",
    "    'DMUAccel_Z_Jerk': data_train['DMUAccelZ_Jerk'].values,\n",
    "    'DMUAccel_Mag': data_train['DMUAccel_Mag'].values,\n",
    "    'DMUAccel_Jerk_Mag': data_train['DMUAccel_Jerk_Mag'].values,\n",
    "    ###########\n",
    "    'DMRoll': data_train['DMRoll'].values,\n",
    "    'DMPitch': data_train['DMPitch'].values,\n",
    "    'DMYaw': data_train['DMYaw'].values,\n",
    "    'DMRoll_Jerk': data_train['DMRoll_Jerk'].values,\n",
    "    'DMPitch_Jerk': data_train['DMPitch_Jerk'].values,\n",
    "    'DMYaw_Jerk': data_train['DMYaw_Jerk'].values,\n",
    "    'DMOrientation_Mag': data_train['DMOrientation_Mag'].values,\n",
    "    'DMOrientation_Jerk_Mag': data_train['DMOrientation_Jerk_Mag'].values,\n",
    "    ###########\n",
    "    'DMRotX': data_train['DMRotX'].values,\n",
    "    'DMRotY': data_train['DMRotY'].values,\n",
    "    'DMRotZ': data_train['DMRotZ'].values,\n",
    "    'DMRotX_Jerk': data_train['DMRotX_Jerk'].values,\n",
    "    'DMRotY_Jerk': data_train['DMRotY_Jerk'].values,\n",
    "    'DMRotZ_Jerk': data_train['DMRotZ_Jerk'].values,\n",
    "    'DMRot_Mag': data_train['DMRot_Mag'].values,\n",
    "    'DMRot_Jerk_Mag': data_train['DMRot_Jerk_Mag'].values,\n",
    "    ###########\n",
    "    'DMGrvX': data_train['DMGrvX'].values,\n",
    "    'DMGrvY': data_train['DMGrvY'].values,\n",
    "    'DMGrvZ': data_train['DMGrvZ'].values,\n",
    "    'DMGrvX_Jerk': data_train['DMGrvX_Jerk'].values,\n",
    "    'DMGrvY_Jerk': data_train['DMGrvY_Jerk'].values,\n",
    "    'DMGrvZ_Jerk': data_train['DMGrvZ_Jerk'].values,\n",
    "    'DMGrv_Mag': data_train['DMGrv_Mag'].values,\n",
    "    'DMGrv_Jerk_Mag': data_train['DMGrv_Jerk_Mag'].values,\n",
    "    ###########\n",
    "    'DMQuatX': data_train['DMQuatX'].values,\n",
    "    'DMQuatY': data_train['DMQuatY'].values,\n",
    "    'DMQuatZ': data_train['DMQuatZ'].values,\n",
    "    'DMQuatX_Jerk': data_train['DMQuatX_Jerk'].values,\n",
    "    'DMQuatY_Jerk': data_train['DMQuatY_Jerk'].values,\n",
    "    'DMQuatZ_Jerk': data_train['DMQuatZ_Jerk'].values,\n",
    "    'DMQuat_Mag': data_train['DMQuat_Mag'].values,\n",
    "    'DMQuat_Jerk_Mag': data_train['DMQuat_Jerk_Mag'].values\n",
    "}"
   ]
  },
  {
   "cell_type": "markdown",
   "id": "c784052c-56da-455d-9f36-6eacdffb792d",
   "metadata": {},
   "source": [
    "#### **Perform sliding window analysis**"
   ]
  },
  {
   "cell_type": "code",
   "execution_count": 29,
   "id": "27c74011-3e5d-4d76-a6d8-648b94202fcc",
   "metadata": {},
   "outputs": [
    {
     "name": "stdout",
     "output_type": "stream",
     "text": [
      "===================================\n",
      "THE PROCESS START AT 2025-09-19 19:15:22\n",
      "...-------------------...\n"
     ]
    },
    {
     "ename": "IndexError",
     "evalue": "index 167785 is out of bounds for axis 0 with size 167263",
     "output_type": "error",
     "traceback": [
      "\u001b[1;31m---------------------------------------------------------------------------\u001b[0m",
      "\u001b[1;31mIndexError\u001b[0m                                Traceback (most recent call last)",
      "Cell \u001b[1;32mIn[29], line 14\u001b[0m\n\u001b[0;32m     11\u001b[0m \u001b[38;5;28mprint\u001b[39m(\u001b[38;5;124m\"\u001b[39m\u001b[38;5;124mTHE PROCESS START AT \u001b[39m\u001b[38;5;124m\"\u001b[39m\u001b[38;5;241m+\u001b[39m formatted_time)\n\u001b[0;32m     12\u001b[0m \u001b[38;5;28mprint\u001b[39m(\u001b[38;5;124m\"\u001b[39m\u001b[38;5;124m...-------------------...\u001b[39m\u001b[38;5;124m\"\u001b[39m)\n\u001b[1;32m---> 14\u001b[0m combined_features \u001b[38;5;241m=\u001b[39m sliding_window_analysis_optimized(data_train, signals)\n\u001b[0;32m     16\u001b[0m \u001b[38;5;66;03m# Calculate the total time taken\u001b[39;00m\n\u001b[0;32m     17\u001b[0m total_time \u001b[38;5;241m=\u001b[39m time\u001b[38;5;241m.\u001b[39mtime() \u001b[38;5;241m-\u001b[39m start_time\n",
      "Cell \u001b[1;32mIn[21], line 9\u001b[0m, in \u001b[0;36msliding_window_analysis_optimized\u001b[1;34m(df, signals)\u001b[0m\n\u001b[0;32m      6\u001b[0m indices \u001b[38;5;241m=\u001b[39m group\u001b[38;5;241m.\u001b[39mindex\n\u001b[0;32m      8\u001b[0m \u001b[38;5;66;03m# Create sliding windows for each signal\u001b[39;00m\n\u001b[1;32m----> 9\u001b[0m sliding_windows \u001b[38;5;241m=\u001b[39m {signal_name: np\u001b[38;5;241m.\u001b[39mlib\u001b[38;5;241m.\u001b[39mstride_tricks\u001b[38;5;241m.\u001b[39msliding_window_view(signal[indices], window_size)[::step_size]\n\u001b[0;32m     10\u001b[0m                    \u001b[38;5;28;01mfor\u001b[39;00m signal_name, signal \u001b[38;5;129;01min\u001b[39;00m signals\u001b[38;5;241m.\u001b[39mitems()}\n\u001b[0;32m     12\u001b[0m \u001b[38;5;66;03m# Ensure all signals have the same number of windows\u001b[39;00m\n\u001b[0;32m     13\u001b[0m num_windows \u001b[38;5;241m=\u001b[39m \u001b[38;5;28mlen\u001b[39m(\u001b[38;5;28mnext\u001b[39m(\u001b[38;5;28miter\u001b[39m(sliding_windows\u001b[38;5;241m.\u001b[39mvalues())))\n",
      "\u001b[1;31mIndexError\u001b[0m: index 167785 is out of bounds for axis 0 with size 167263"
     ]
    }
   ],
   "source": [
    "# Perform sliding window analysis\n",
    "import time\n",
    "from datetime import datetime\n",
    "\n",
    "# Start the timer\n",
    "\n",
    "start_time = time.time()\n",
    "formatted_time = datetime.fromtimestamp(start_time).strftime('%Y-%m-%d %H:%M:%S')\n",
    "\n",
    "print(\"===================================\")\n",
    "print(\"THE PROCESS START AT \"+ formatted_time)\n",
    "print(\"...-------------------...\")\n",
    "\n",
    "combined_features = sliding_window_analysis_optimized(data_train, signals)\n",
    "\n",
    "# Calculate the total time taken\n",
    "total_time = time.time() - start_time\n",
    "\n",
    "print(\"===================================\")\n",
    "print('\"THE PROCESS TOOK :\"', f\"{total_time:.{2}f}\", 'seconds', '  |', f\"{total_time/60:.{2}f}\", 'minutes')"
   ]
  },
  {
   "cell_type": "code",
   "execution_count": null,
   "id": "507f7ee6-86af-4025-9967-ecd531ad8ee7",
   "metadata": {},
   "outputs": [],
   "source": [
    "# Display the resulting combined features DataFrame\n",
    "combined_features.info()"
   ]
  },
  {
   "cell_type": "code",
   "execution_count": null,
   "id": "b581a050-e507-4d17-a2f6-7cd3f9d782c5",
   "metadata": {},
   "outputs": [],
   "source": [
    "combined_features.shape"
   ]
  },
  {
   "cell_type": "markdown",
   "id": "f9ab5115-90f9-45b6-a98a-28f6933b3df4",
   "metadata": {},
   "source": [
    "### <b>Save the combined features</b>\n",
    "\n",
    "- **`combined_features`**  All the combined features"
   ]
  },
  {
   "cell_type": "code",
   "execution_count": null,
   "id": "55cf4110-4208-471d-8f6e-ba7877a5a14a",
   "metadata": {},
   "outputs": [],
   "source": [
    "# Define the directory path\n",
    "dir_path = 'combined_features'\n",
    "\n",
    "# Check if the directory exists, if not, create it\n",
    "if not os.path.exists(dir_path):\n",
    "    os.makedirs(dir_path)\n",
    "\n",
    "# Replace the colons in the timestamp with another character that is valid in filenames\n",
    "formatted_time = formatted_time.replace(':', '-')\n",
    "\n",
    "# Retrieve the number of features to save it with the file name\n",
    "nb_features = combined_features.shape[1]\n",
    "\n",
    "### Save the data\n",
    "# Save all the combined_features All the combined features\n",
    "combined_features.to_csv(dir_path+'/combined_features_{}_sRate_{}_wSize_{}-{}.csv'.format(nb_features, sampling_rate, window_size, formatted_time), index=False)"
   ]
  }
 ],
 "metadata": {
  "kernelspec": {
   "display_name": "Python 3 (ipykernel)",
   "language": "python",
   "name": "python3"
  },
  "language_info": {
   "codemirror_mode": {
    "name": "ipython",
    "version": 3
   },
   "file_extension": ".py",
   "mimetype": "text/x-python",
   "name": "python",
   "nbconvert_exporter": "python",
   "pygments_lexer": "ipython3",
   "version": "3.12.3"
  }
 },
 "nbformat": 4,
 "nbformat_minor": 5
}
