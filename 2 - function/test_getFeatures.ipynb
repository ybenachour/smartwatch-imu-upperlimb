{
 "cells": [
  {
   "cell_type": "code",
   "execution_count": 40,
   "id": "008ef28e-c776-4020-a774-76c27fc50303",
   "metadata": {},
   "outputs": [],
   "source": [
    "import getFeatures"
   ]
  },
  {
   "cell_type": "code",
   "execution_count": 48,
   "id": "1e7c6879-08f2-4fab-a0d8-a0c3e7cda6ea",
   "metadata": {},
   "outputs": [
    {
     "data": {
      "text/plain": [
       "<module 'getFeatures' from 'D:\\\\Dropbox\\\\Work\\\\Learning\\\\Python\\\\Rehab data\\\\Sensor Data_ML scripts_Models\\\\SensorData_HemiPhysioDataApp(Our App)\\\\Research 2\\\\getFeatures.py'>"
      ]
     },
     "execution_count": 48,
     "metadata": {},
     "output_type": "execute_result"
    }
   ],
   "source": [
    "import importlib\n",
    "importlib.reload(getFeatures)"
   ]
  },
  {
   "cell_type": "code",
   "execution_count": 50,
   "id": "37ba3361-7e4b-43a4-879d-e56cb1cc75d0",
   "metadata": {},
   "outputs": [
    {
     "name": "stdout",
     "output_type": "stream",
     "text": [
      "===================================\n",
      "THE PROCESS START AT 2024-12-07 20:38:41\n",
      "...-------------------...\n",
      "===================================\n",
      "\"THE PROCESS TOOK :\" 784.87 seconds   | 13.08 minutes\n"
     ]
    }
   ],
   "source": [
    "result = getFeatures.generate_combined_features(\"all_train.csv\")"
   ]
  },
  {
   "cell_type": "code",
   "execution_count": 67,
   "id": "0b2e37bb-5ecb-405c-b154-1a46c0eb1681",
   "metadata": {},
   "outputs": [
    {
     "name": "stdout",
     "output_type": "stream",
     "text": [
      "<class 'pandas.core.frame.DataFrame'>\n",
      "RangeIndex: 7163 entries, 0 to 7162\n",
      "Columns: 339 entries, DMUAccel_X_mean to MoveType\n",
      "dtypes: float64(336), object(3)\n",
      "memory usage: 18.5+ MB\n"
     ]
    }
   ],
   "source": [
    "result.info()"
   ]
  }
 ],
 "metadata": {
  "kernelspec": {
   "display_name": "Python 3 (ipykernel)",
   "language": "python",
   "name": "python3"
  },
  "language_info": {
   "codemirror_mode": {
    "name": "ipython",
    "version": 3
   },
   "file_extension": ".py",
   "mimetype": "text/x-python",
   "name": "python",
   "nbconvert_exporter": "python",
   "pygments_lexer": "ipython3",
   "version": "3.12.3"
  }
 },
 "nbformat": 4,
 "nbformat_minor": 5
}
